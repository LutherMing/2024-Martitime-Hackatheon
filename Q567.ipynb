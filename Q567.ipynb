{
 "cells": [
  {
   "cell_type": "code",
   "execution_count": 1,
   "id": "62c390c7-c02d-4c80-af4d-2512f86e48a7",
   "metadata": {
    "execution": {
     "iopub.execute_input": "2024-01-26T22:50:15.359732Z",
     "iopub.status.busy": "2024-01-26T22:50:15.358954Z",
     "iopub.status.idle": "2024-01-26T22:50:17.434156Z",
     "shell.execute_reply": "2024-01-26T22:50:17.433431Z",
     "shell.execute_reply.started": "2024-01-26T22:50:15.359694Z"
    },
    "tags": []
   },
   "outputs": [
    {
     "name": "stdout",
     "output_type": "stream",
     "text": [
      "Intel MKL WARNING: Support of Intel(R) Streaming SIMD Extensions 4.2 (Intel(R) SSE4.2) enabled only processors has been deprecated. Intel oneAPI Math Kernel Library 2025.0 will require Intel(R) Advanced Vector Extensions (Intel(R) AVX) instructions.\n",
      "Intel MKL WARNING: Support of Intel(R) Streaming SIMD Extensions 4.2 (Intel(R) SSE4.2) enabled only processors has been deprecated. Intel oneAPI Math Kernel Library 2025.0 will require Intel(R) Advanced Vector Extensions (Intel(R) AVX) instructions.\n"
     ]
    }
   ],
   "source": [
    "import warnings\n",
    "warnings.filterwarnings(\"ignore\")\n",
    "import numpy as np\n",
    "import pandas as pd\n",
    "import matplotlib.pyplot as plt\n",
    "import statsmodels.formula.api as smf\n",
    "from sklearn.model_selection import train_test_split\n",
    "import seaborn as sns"
   ]
  },
  {
   "cell_type": "code",
   "execution_count": 2,
   "id": "e0984b0e-66f8-4f5c-bca7-a6f13a661dd5",
   "metadata": {
    "execution": {
     "iopub.execute_input": "2024-01-26T22:50:38.768047Z",
     "iopub.status.busy": "2024-01-26T22:50:38.767508Z",
     "iopub.status.idle": "2024-01-26T22:50:55.991781Z",
     "shell.execute_reply": "2024-01-26T22:50:55.990677Z",
     "shell.execute_reply.started": "2024-01-26T22:50:38.768006Z"
    },
    "tags": []
   },
   "outputs": [],
   "source": [
    "df = pd.read_csv('./Q1234.csv')"
   ]
  },
  {
   "cell_type": "code",
   "execution_count": 4,
   "id": "a4aeb9e3-3f9f-44d3-8a87-6dd1740e003a",
   "metadata": {
    "execution": {
     "iopub.execute_input": "2024-01-26T22:52:23.096578Z",
     "iopub.status.busy": "2024-01-26T22:52:23.095865Z",
     "iopub.status.idle": "2024-01-26T22:52:24.039905Z",
     "shell.execute_reply": "2024-01-26T22:52:24.039523Z",
     "shell.execute_reply.started": "2024-01-26T22:52:23.096530Z"
    },
    "tags": []
   },
   "outputs": [],
   "source": [
    "df = df.iloc[:,:-3]"
   ]
  },
  {
   "cell_type": "code",
   "execution_count": 5,
   "id": "2d06083c-4e75-47a7-a38c-43f545bc8913",
   "metadata": {
    "execution": {
     "iopub.execute_input": "2024-01-26T22:52:26.967724Z",
     "iopub.status.busy": "2024-01-26T22:52:26.966328Z",
     "iopub.status.idle": "2024-01-26T22:52:26.986431Z",
     "shell.execute_reply": "2024-01-26T22:52:26.985603Z",
     "shell.execute_reply.started": "2024-01-26T22:52:26.967657Z"
    },
    "tags": []
   },
   "outputs": [
    {
     "name": "stdout",
     "output_type": "stream",
     "text": [
      "<class 'pandas.core.frame.DataFrame'>\n",
      "RangeIndex: 2822599 entries, 0 to 2822598\n",
      "Data columns (total 45 columns):\n",
      " #   Column                 Dtype  \n",
      "---  ------                 -----  \n",
      " 0   imo                    int64  \n",
      " 1   mmsi                   int64  \n",
      " 2   vessel_id              int64  \n",
      " 3   vessel_name            object \n",
      " 4   date_of_build          object \n",
      " 5   vessel_type            object \n",
      " 6   group                  object \n",
      " 7   timestamp              object \n",
      " 8   date_only              object \n",
      " 9   lon                    float64\n",
      " 10  lat                    float64\n",
      " 11  nav_stat               int64  \n",
      " 12  speed                  float64\n",
      " 13  course                 float64\n",
      " 14  heading                float64\n",
      " 15  fuel_category          int64  \n",
      " 16  main_engine_fuel_type  object \n",
      " 17  aux_engine_fuel_type   object \n",
      " 18  engine_type            object \n",
      " 19  berth                  object \n",
      " 20  port_name              object \n",
      " 21  coverage               object \n",
      " 22  anchorage              object \n",
      " 23  terminal               object \n",
      " 24  maneuvering_zone       object \n",
      " 25  p                      float64\n",
      " 26  vref                   float64\n",
      " 27  sfc_me                 float64\n",
      " 28  sfc_ae                 float64\n",
      " 29  sfc_ab                 float64\n",
      " 30  ael                    float64\n",
      " 31  abl                    float64\n",
      " 32  geometry               object \n",
      " 33  in_berth               int64  \n",
      " 34  in_maneuver_zone       int64  \n",
      " 35  in_anchorage           int64  \n",
      " 36  in_port_boundary       int64  \n",
      " 37  location               int64  \n",
      " 38  activity               int64  \n",
      " 39  time_diff              float64\n",
      " 40  is_continuous          bool   \n",
      " 41  valid_duration         float64\n",
      " 42  valid_mode             int64  \n",
      " 43  OGV                    object \n",
      " 44  Tier                   float64\n",
      "dtypes: bool(1), float64(15), int64(12), object(17)\n",
      "memory usage: 950.2+ MB\n"
     ]
    }
   ],
   "source": [
    "df.info()"
   ]
  },
  {
   "cell_type": "markdown",
   "id": "ab53ca7c-a551-4744-96fc-27fff7225fb4",
   "metadata": {},
   "source": [
    "# 保留OGV"
   ]
  },
  {
   "cell_type": "code",
   "execution_count": 29,
   "id": "d562d333-75db-425f-80ca-9447603654ef",
   "metadata": {
    "execution": {
     "iopub.execute_input": "2024-01-26T23:04:47.437639Z",
     "iopub.status.busy": "2024-01-26T23:04:47.436607Z",
     "iopub.status.idle": "2024-01-26T23:04:48.717618Z",
     "shell.execute_reply": "2024-01-26T23:04:48.717075Z",
     "shell.execute_reply.started": "2024-01-26T23:04:47.437592Z"
    },
    "tags": []
   },
   "outputs": [],
   "source": [
    "df = df[df.OGV=='OGV']"
   ]
  },
  {
   "cell_type": "code",
   "execution_count": 163,
   "id": "ebf2b467-fcab-4dfb-9d03-7f580d668ac9",
   "metadata": {
    "execution": {
     "iopub.execute_input": "2024-01-27T04:54:25.213031Z",
     "iopub.status.busy": "2024-01-27T04:54:25.212847Z",
     "iopub.status.idle": "2024-01-27T04:54:25.228168Z",
     "shell.execute_reply": "2024-01-27T04:54:25.227541Z",
     "shell.execute_reply.started": "2024-01-27T04:54:25.213008Z"
    },
    "tags": []
   },
   "outputs": [
    {
     "data": {
      "text/plain": [
       "4    911132\n",
       "2    859280\n",
       "1    136670\n",
       "3     97843\n",
       "0     28447\n",
       "Name: valid_mode, dtype: int64"
      ]
     },
     "execution_count": 163,
     "metadata": {},
     "output_type": "execute_result"
    }
   ],
   "source": [
    "df.valid_mode.value_counts()"
   ]
  },
  {
   "cell_type": "markdown",
   "id": "40105653-fb01-4b82-a5cb-6b1b195b03a6",
   "metadata": {
    "jp-MarkdownHeadingCollapsed": true,
    "tags": []
   },
   "source": [
    "# Step 5: Determine Fuel Category\n",
    "Ports have defined fuel categories (e.g. High Sulphur, Global 0.5%, ECA).\n",
    "\n",
    "For 2023, Singapore will fall under Global 2020."
   ]
  },
  {
   "cell_type": "markdown",
   "id": "e63bbc86-c516-4ba7-a7ff-14737b1c6c5a",
   "metadata": {},
   "source": [
    "# Step 7: Calculate Emissions\n",
    "This step is dependent on the previous steps. Refer to below explanation for emission calculations\n",
    "\n",
    "Note:\n",
    "\n",
    "Sequence to be strictly followed for calculations\n",
    "\n",
    "- Emissions do not need to be calculated for data points with missing parameters (e.g. p, speed, ael, abl, sfc_me, sfc_ae) and can be zero as default, where these parameters are used in calculation formulas.\n",
    "- If the missing parameters are not used in the calculation formula (e.g. for calculating emissions in alongside mode), there should be emissions.\n"
   ]
  },
  {
   "cell_type": "markdown",
   "id": "ebf6358c-3625-41b1-bed1-c9defcd3784c",
   "metadata": {},
   "source": [
    "## Step 7a: Get the following parameters from the vessel movements data:\n",
    "- p\n",
    "- Reference speed (vref)\n",
    "- Actual speed (AS)"
   ]
  },
  {
   "cell_type": "markdown",
   "id": "9fa2cbb6-b57c-4fb8-92d0-5d9f614935c0",
   "metadata": {},
   "source": [
    "## Step 7b: Calculate maximum speed\n",
    "Formula:\n",
    "\n",
    "Maximum Speed (MS) = 1.066 x vref"
   ]
  },
  {
   "cell_type": "code",
   "execution_count": 30,
   "id": "5b0909eb-0035-4c03-b46c-6314db786a9c",
   "metadata": {
    "execution": {
     "iopub.execute_input": "2024-01-26T23:05:01.008580Z",
     "iopub.status.busy": "2024-01-26T23:05:01.008021Z",
     "iopub.status.idle": "2024-01-26T23:05:01.150528Z",
     "shell.execute_reply": "2024-01-26T23:05:01.150044Z",
     "shell.execute_reply.started": "2024-01-26T23:05:01.008546Z"
    },
    "tags": []
   },
   "outputs": [
    {
     "data": {
      "text/plain": [
       "count    2.025205e+06\n",
       "mean     1.774813e+01\n",
       "std      5.292011e+00\n",
       "min      5.330000e+00\n",
       "25%      1.375140e+01\n",
       "50%      1.556360e+01\n",
       "75%      2.291900e+01\n",
       "max      3.731000e+01\n",
       "Name: MS, dtype: float64"
      ]
     },
     "execution_count": 30,
     "metadata": {},
     "output_type": "execute_result"
    }
   ],
   "source": [
    "df['MS'] = df.vref*1.066\n",
    "\n",
    "df.MS.describe()"
   ]
  },
  {
   "cell_type": "markdown",
   "id": "a292ed87-602f-4622-8e70-5f83e7743e1c",
   "metadata": {},
   "source": [
    "## Step 7c: Get activity hours (A) for each operating mode\n",
    "This was calculated in Step 2."
   ]
  },
  {
   "cell_type": "code",
   "execution_count": 31,
   "id": "47cf63c5-f298-4d67-810b-8b9776e8a422",
   "metadata": {
    "execution": {
     "iopub.execute_input": "2024-01-26T23:05:03.782362Z",
     "iopub.status.busy": "2024-01-26T23:05:03.781651Z",
     "iopub.status.idle": "2024-01-26T23:05:03.835731Z",
     "shell.execute_reply": "2024-01-26T23:05:03.835134Z",
     "shell.execute_reply.started": "2024-01-26T23:05:03.782313Z"
    },
    "tags": []
   },
   "outputs": [
    {
     "data": {
      "text/plain": [
       "valid_mode\n",
       "0    987002.375556\n",
       "1     12266.251667\n",
       "2     41754.647500\n",
       "3      5543.853056\n",
       "4     47289.525000\n",
       "Name: time_diff, dtype: float64"
      ]
     },
     "execution_count": 31,
     "metadata": {},
     "output_type": "execute_result"
    }
   ],
   "source": [
    "df.groupby('valid_mode')['time_diff'].sum()"
   ]
  },
  {
   "cell_type": "code",
   "execution_count": 32,
   "id": "66fbb97e-2c59-41a2-a631-f1423c5c6764",
   "metadata": {
    "execution": {
     "iopub.execute_input": "2024-01-26T23:05:04.425674Z",
     "iopub.status.busy": "2024-01-26T23:05:04.424789Z",
     "iopub.status.idle": "2024-01-26T23:05:04.473718Z",
     "shell.execute_reply": "2024-01-26T23:05:04.473181Z",
     "shell.execute_reply.started": "2024-01-26T23:05:04.425634Z"
    },
    "tags": []
   },
   "outputs": [
    {
     "data": {
      "text/plain": [
       "valid_mode\n",
       "0      708.568056\n",
       "1    12266.251667\n",
       "2    41754.647500\n",
       "3     5543.853056\n",
       "4    47289.525000\n",
       "Name: valid_duration, dtype: float64"
      ]
     },
     "execution_count": 32,
     "metadata": {},
     "output_type": "execute_result"
    }
   ],
   "source": [
    "df.groupby('valid_mode')['valid_duration'].sum()"
   ]
  },
  {
   "attachments": {
    "5ff860d7-fb86-4ec5-a0fb-903c968648dd.png": {
     "image/png": "[encoded data removed]"
    }
   },
   "cell_type": "markdown",
   "id": "738975f0-dc5e-4426-896c-6a197178d4c5",
   "metadata": {},
   "source": [
    "## Step 7d (i): Calculate Engine Load Factor (LF) for propulsion engines\n",
    "![image.png](attachment:5ff860d7-fb86-4ec5-a0fb-903c968648dd.png)"
   ]
  },
  {
   "cell_type": "code",
   "execution_count": 33,
   "id": "a86aeaac-7ead-4df6-bcf1-d4a2422dda36",
   "metadata": {
    "execution": {
     "iopub.execute_input": "2024-01-26T23:05:09.877037Z",
     "iopub.status.busy": "2024-01-26T23:05:09.876024Z",
     "iopub.status.idle": "2024-01-26T23:05:09.983489Z",
     "shell.execute_reply": "2024-01-26T23:05:09.983051Z",
     "shell.execute_reply.started": "2024-01-26T23:05:09.876990Z"
    },
    "tags": []
   },
   "outputs": [],
   "source": [
    "df['LF'] = (df.speed/df.MS)**3"
   ]
  },
  {
   "cell_type": "code",
   "execution_count": 34,
   "id": "eaabc92a-d799-45cb-98cf-3b8184c0b214",
   "metadata": {
    "execution": {
     "iopub.execute_input": "2024-01-26T23:05:10.485865Z",
     "iopub.status.busy": "2024-01-26T23:05:10.484998Z",
     "iopub.status.idle": "2024-01-26T23:05:10.549625Z",
     "shell.execute_reply": "2024-01-26T23:05:10.549101Z",
     "shell.execute_reply.started": "2024-01-26T23:05:10.485824Z"
    },
    "tags": []
   },
   "outputs": [
    {
     "data": {
      "text/plain": [
       "count    2.011025e+06\n",
       "mean     2.563024e-01\n",
       "std      9.751869e+00\n",
       "min      0.000000e+00\n",
       "25%      0.000000e+00\n",
       "50%      0.000000e+00\n",
       "75%      0.000000e+00\n",
       "max      1.426501e+03\n",
       "Name: LF, dtype: float64"
      ]
     },
     "execution_count": 34,
     "metadata": {},
     "output_type": "execute_result"
    }
   ],
   "source": [
    "df.LF.describe()"
   ]
  },
  {
   "cell_type": "markdown",
   "id": "f0dacd7e-2824-481a-9ca7-f4add0acd9b9",
   "metadata": {},
   "source": [
    "## Step 7d- (ii):\n",
    "- Look up Low Load Adjustment Factor (LLAF) using LF calculated in Step 7d(i)\n",
    "- Refer to llaf_table\n",
    "- LLAF is not applicable if LF is more than 0.2. LLAF will be 1 in such cases.\n",
    "- Note: Propulsion engine emission can only be calculated for transit and maneuver modes since at other times the main engine is not running."
   ]
  },
  {
   "cell_type": "code",
   "execution_count": 14,
   "id": "12c39ce0-ff4d-4da5-a00e-b94a4e64a04f",
   "metadata": {
    "execution": {
     "iopub.execute_input": "2024-01-26T23:01:01.460450Z",
     "iopub.status.busy": "2024-01-26T23:01:01.459613Z",
     "iopub.status.idle": "2024-01-26T23:01:01.475713Z",
     "shell.execute_reply": "2024-01-26T23:01:01.475187Z",
     "shell.execute_reply.started": "2024-01-26T23:01:01.460407Z"
    },
    "tags": []
   },
   "outputs": [],
   "source": [
    "path = \"/Users/luozeming/Desktop/1Hackathon/Category A (University Level) - NUS-RightShip Hackathon 2024/supplementary_tables/llaf_table.csv\"\n",
    "llaf = pd.read_csv(path)"
   ]
  },
  {
   "cell_type": "code",
   "execution_count": 57,
   "id": "751d8e62-72cb-42b3-ab24-9bb9d28041e3",
   "metadata": {
    "execution": {
     "iopub.execute_input": "2024-01-26T18:44:53.950565Z",
     "iopub.status.busy": "2024-01-26T18:44:53.949822Z",
     "iopub.status.idle": "2024-01-26T18:44:54.103880Z",
     "shell.execute_reply": "2024-01-26T18:44:54.103527Z",
     "shell.execute_reply.started": "2024-01-26T18:44:53.950524Z"
    },
    "tags": []
   },
   "outputs": [
    {
     "data": {
      "text/plain": [
       "<Axes: >"
      ]
     },
     "execution_count": 57,
     "metadata": {},
     "output_type": "execute_result"
    },
    {
     "data": {
      "image/png": "[encoded data removed]",
      "text/plain": [
       "<Figure size 640x480 with 1 Axes>"
      ]
     },
     "metadata": {},
     "output_type": "display_data"
    }
   ],
   "source": [
    "llaf.plot()"
   ]
  },
  {
   "cell_type": "code",
   "execution_count": 58,
   "id": "a6191310-381a-4c81-bc5b-e4277ab76f65",
   "metadata": {
    "collapsed": true,
    "execution": {
     "iopub.execute_input": "2024-01-26T18:44:55.773561Z",
     "iopub.status.busy": "2024-01-26T18:44:55.772623Z",
     "iopub.status.idle": "2024-01-26T18:44:55.956694Z",
     "shell.execute_reply": "2024-01-26T18:44:55.956283Z",
     "shell.execute_reply.started": "2024-01-26T18:44:55.773518Z"
    },
    "jupyter": {
     "outputs_hidden": true,
     "source_hidden": true
    },
    "scrolled": true,
    "tags": []
   },
   "outputs": [
    {
     "name": "stdout",
     "output_type": "stream",
     "text": [
      "NOx [  0.77683575 -10.72200248   1.65751087]\n",
      "Intel MKL WARNING: Support of Intel(R) Streaming SIMD Extensions 4.2 (Intel(R) SSE4.2) enabled only processors has been deprecated. Intel oneAPI Math Kernel Library 2025.0 will require Intel(R) Advanced Vector Extensions (Intel(R) AVX) instructions.\n",
      "HC [  4.7776123  -37.07309933   2.14420963]\n",
      "Intel MKL WARNING: Support of Intel(R) Streaming SIMD Extensions 4.2 (Intel(R) SSE4.2) enabled only processors has been deprecated. Intel oneAPI Math Kernel Library 2025.0 will require Intel(R) Advanced Vector Extensions (Intel(R) AVX) instructions.\n",
      "CO [  2.39768364 -18.29950371   1.59219984]\n",
      "Intel MKL WARNING: Support of Intel(R) Streaming SIMD Extensions 4.2 (Intel(R) SSE4.2) enabled only processors has been deprecated. Intel oneAPI Math Kernel Library 2025.0 will require Intel(R) Advanced Vector Extensions (Intel(R) AVX) instructions.\n",
      "PM [  6.58376479 -18.23368184   0.21702242]\n",
      "SO2 [ 0.81819653 -7.31579369  1.29068276]\n",
      "CO2 [ 0.68613652 -7.11566017  1.43838918]\n",
      "N2O [  0.77683575 -10.72200248   1.65751087]\n",
      "CH4 [  4.7776123  -37.07309933   2.14420963]\n",
      "Intel MKL WARNING: Support of Intel(R) Streaming SIMD Extensions 4.2 (Intel(R) SSE4.2) enabled only processors has been deprecated. Intel oneAPI Math Kernel Library 2025.0 will require Intel(R) Advanced Vector Extensions (Intel(R) AVX) instructions.\n",
      "Intel MKL WARNING: Support of Intel(R) Streaming SIMD Extensions 4.2 (Intel(R) SSE4.2) enabled only processors has been deprecated. Intel oneAPI Math Kernel Library 2025.0 will require Intel(R) Advanced Vector Extensions (Intel(R) AVX) instructions.\n",
      "Intel MKL WARNING: Support of Intel(R) Streaming SIMD Extensions 4.2 (Intel(R) SSE4.2) enabled only processors has been deprecated. Intel oneAPI Math Kernel Library 2025.0 will require Intel(R) Advanced Vector Extensions (Intel(R) AVX) instructions.\n",
      "Intel MKL WARNING: Support of Intel(R) Streaming SIMD Extensions 4.2 (Intel(R) SSE4.2) enabled only processors has been deprecated. Intel oneAPI Math Kernel Library 2025.0 will require Intel(R) Advanced Vector Extensions (Intel(R) AVX) instructions.\n",
      "Intel MKL WARNING: Support of Intel(R) Streaming SIMD Extensions 4.2 (Intel(R) SSE4.2) enabled only processors has been deprecated. Intel oneAPI Math Kernel Library 2025.0 will require Intel(R) Advanced Vector Extensions (Intel(R) AVX) instructions.\n"
     ]
    },
    {
     "data": {
      "text/plain": [
       "<Axes: >"
      ]
     },
     "execution_count": 58,
     "metadata": {},
     "output_type": "execute_result"
    },
    {
     "data": {
      "image/png": "[encoded data removed]",
      "text/plain": [
       "<Figure size 640x480 with 1 Axes>"
      ]
     },
     "metadata": {},
     "output_type": "display_data"
    }
   ],
   "source": [
    "import numpy as np\n",
    "from scipy.optimize import curve_fit\n",
    "\n",
    "# Define the exponential growth function\n",
    "def exponential_growth_func(x, a, b, c):\n",
    "    return a * np.exp(b * x+c)\n",
    "\n",
    "llaf_fits = pd.DataFrame()\n",
    "x = llaf.iloc[:,0].apply(lambda x:int(x[:-1])/100).values\n",
    "llaf_fits['Load'] = x\n",
    "llaf_fit_dict = {}\n",
    "for i in llaf.columns[1:]:\n",
    "\n",
    "    y = llaf[i].values\n",
    "    # Use curve_fit to fit the exponential growth function to the data\n",
    "    params, covariance = curve_fit(exponential_growth_func, x,y)#,bounds=([1,-50],[50,0]))\n",
    "    # The parameters of the fitted exponential growth function\n",
    "    a_fit, b_fit, c_fit = params\n",
    "    poly_function = lambda x :exponential_growth_func(x=x, a=a_fit,b=b_fit, c=c_fit)\n",
    "    llaf_fit_dict[i] = poly_function\n",
    "    llaf_fits[i] = poly_function(x)\n",
    "    # # Fit a polynomial of degree 2 to the data\n",
    "    # coefficients = np.polyfit(x, y, 2)\n",
    "    # # Create a polynomial function using numpy.poly1d\n",
    "    # poly_function = np.poly1d(coefficients)\n",
    "    print(i,params)\n",
    "llaf_fits.iloc[:,1:].plot()"
   ]
  },
  {
   "cell_type": "markdown",
   "id": "e8ad8e4b-821b-40c7-a0a4-dc7481321fc8",
   "metadata": {},
   "source": [
    "### llaf_func"
   ]
  },
  {
   "cell_type": "code",
   "execution_count": 15,
   "id": "ded37f5b-6d9b-4c84-aad7-711502223052",
   "metadata": {
    "execution": {
     "iopub.execute_input": "2024-01-26T23:02:12.572030Z",
     "iopub.status.busy": "2024-01-26T23:02:12.571510Z",
     "iopub.status.idle": "2024-01-26T23:02:12.853498Z",
     "shell.execute_reply": "2024-01-26T23:02:12.853082Z",
     "shell.execute_reply.started": "2024-01-26T23:02:12.571997Z"
    },
    "tags": []
   },
   "outputs": [
    {
     "data": {
      "text/plain": [
       "<Axes: >"
      ]
     },
     "execution_count": 15,
     "metadata": {},
     "output_type": "execute_result"
    },
    {
     "data": {
      "image/png": "[encoded data removed]",
      "text/plain": [
       "<Figure size 640x480 with 1 Axes>"
      ]
     },
     "metadata": {},
     "output_type": "display_data"
    }
   ],
   "source": [
    "import numpy as np\n",
    "from scipy.optimize import curve_fit\n",
    "from scipy.interpolate import UnivariateSpline\n",
    "\n",
    "# Define the exponential growth function\n",
    "def exponential_growth_func(x, a, b, c):\n",
    "    return a * np.exp(b * x+c)\n",
    "\n",
    "llaf_fits = pd.DataFrame()\n",
    "x = llaf.iloc[:,0].apply(lambda x:int(x[:-1])/100).values\n",
    "llaf_fits['Load'] = x\n",
    "llaf_fit_dict = {}\n",
    "for i in llaf.columns[1:]:\n",
    "\n",
    "    y = llaf[i].values\n",
    "    # Perform spline interpolation\n",
    "    spline = UnivariateSpline(x, y, k=5)  # k is the degree of the smoothing spline\n",
    "    llaf_fit_dict[i] = spline\n",
    "    llaf_fits[i] = spline(x)\n",
    "    \n",
    "llaf_fits.iloc[:,1:].plot()"
   ]
  },
  {
   "cell_type": "code",
   "execution_count": 16,
   "id": "ad00154b-8e1e-4116-8064-b3455d97dd97",
   "metadata": {
    "execution": {
     "iopub.execute_input": "2024-01-26T23:02:15.279034Z",
     "iopub.status.busy": "2024-01-26T23:02:15.278111Z",
     "iopub.status.idle": "2024-01-26T23:02:15.435014Z",
     "shell.execute_reply": "2024-01-26T23:02:15.434657Z",
     "shell.execute_reply.started": "2024-01-26T23:02:15.278988Z"
    },
    "tags": []
   },
   "outputs": [
    {
     "data": {
      "text/plain": [
       "<Axes: >"
      ]
     },
     "execution_count": 16,
     "metadata": {},
     "output_type": "execute_result"
    },
    {
     "data": {
      "image/png": "[encoded data removed]",
      "text/plain": [
       "<Figure size 640x480 with 1 Axes>"
      ]
     },
     "metadata": {},
     "output_type": "display_data"
    }
   ],
   "source": [
    "def llaf_func(key,x):\n",
    "    # if x<0.2:\n",
    "    #     val = llaf_fit_dict[key](x)\n",
    "    # else:\n",
    "    #     val = 1\n",
    "    # return val\n",
    "    # print(key)\n",
    "    \n",
    "    spline = llaf_fit_dict[key]\n",
    "    \n",
    "    return np.where(x<0.2,spline(x),1)\n",
    "\n",
    "llaf_fits = pd.DataFrame()\n",
    "for i in llaf.columns[1:]:\n",
    "    # llaf_fits[i] = (pd.Series(range(1,100))/100).map(lambda x:llaf_func(i,x))\n",
    "    llaf_fits[i] = llaf_func(i,np.arange(1,100)/100)\n",
    "    \n",
    "llaf_fits.iloc[:,1:].plot()"
   ]
  },
  {
   "cell_type": "code",
   "execution_count": null,
   "id": "51488d37-95cb-4a88-9b84-5c2e29347581",
   "metadata": {},
   "outputs": [],
   "source": []
  },
  {
   "cell_type": "markdown",
   "id": "31540d9f-d23a-491e-a5c8-601907589854",
   "metadata": {},
   "source": [
    "# gdf_llaf "
   ]
  },
  {
   "cell_type": "code",
   "execution_count": 36,
   "id": "6659c01d-b91f-4d8b-b8c9-5bbc6d547d60",
   "metadata": {
    "execution": {
     "iopub.execute_input": "2024-01-26T23:05:21.790174Z",
     "iopub.status.busy": "2024-01-26T23:05:21.789269Z",
     "iopub.status.idle": "2024-01-26T23:05:21.912960Z",
     "shell.execute_reply": "2024-01-26T23:05:21.912526Z",
     "shell.execute_reply.started": "2024-01-26T23:05:21.790131Z"
    },
    "tags": []
   },
   "outputs": [
    {
     "data": {
      "text/plain": [
       "SSD           1390307\n",
       "MSD            443085\n",
       "HSD            139844\n",
       "MSD-ED          23816\n",
       "LNG-Otto        10910\n",
       "HSD-ED          10416\n",
       "LNG-Diesel       7346\n",
       "SSD-ED           4120\n",
       "Name: engine_type, dtype: int64"
      ]
     },
     "execution_count": 36,
     "metadata": {},
     "output_type": "execute_result"
    }
   ],
   "source": [
    "df.engine_type.value_counts()"
   ]
  },
  {
   "cell_type": "code",
   "execution_count": 37,
   "id": "d6e7634d-f7cf-4f89-99b8-4e2a723104c2",
   "metadata": {
    "execution": {
     "iopub.execute_input": "2024-01-26T23:05:23.702717Z",
     "iopub.status.busy": "2024-01-26T23:05:23.701588Z",
     "iopub.status.idle": "2024-01-26T23:05:23.854335Z",
     "shell.execute_reply": "2024-01-26T23:05:23.853731Z",
     "shell.execute_reply.started": "2024-01-26T23:05:23.702666Z"
    },
    "tags": []
   },
   "outputs": [
    {
     "data": {
      "text/plain": [
       "<Axes: >"
      ]
     },
     "execution_count": 37,
     "metadata": {},
     "output_type": "execute_result"
    },
    {
     "data": {
      "image/png": "[encoded data removed]",
      "text/plain": [
       "<Figure size 640x480 with 1 Axes>"
      ]
     },
     "metadata": {},
     "output_type": "display_data"
    }
   ],
   "source": [
    "df.sfc_ae.hist()"
   ]
  },
  {
   "cell_type": "code",
   "execution_count": 38,
   "id": "160d7f3d-4d6d-4b1c-bac9-1b0be76eb496",
   "metadata": {
    "execution": {
     "iopub.execute_input": "2024-01-26T23:05:24.850440Z",
     "iopub.status.busy": "2024-01-26T23:05:24.849359Z",
     "iopub.status.idle": "2024-01-26T23:05:24.996972Z",
     "shell.execute_reply": "2024-01-26T23:05:24.996258Z",
     "shell.execute_reply.started": "2024-01-26T23:05:24.850381Z"
    },
    "tags": []
   },
   "outputs": [
    {
     "data": {
      "text/plain": [
       "<Axes: >"
      ]
     },
     "execution_count": 38,
     "metadata": {},
     "output_type": "execute_result"
    },
    {
     "data": {
      "image/png": "[encoded data removed]",
      "text/plain": [
       "<Figure size 640x480 with 1 Axes>"
      ]
     },
     "metadata": {},
     "output_type": "display_data"
    }
   ],
   "source": [
    "df.ael.hist()"
   ]
  },
  {
   "cell_type": "markdown",
   "id": "52b02eb6-2be5-4d31-b5c6-1a117b0bde82",
   "metadata": {},
   "source": [
    "### gdf_llaf & gdf_peef"
   ]
  },
  {
   "cell_type": "raw",
   "id": "c4a5b2b9-12ff-44c1-b29f-1a7d203b2d70",
   "metadata": {
    "execution": {
     "iopub.execute_input": "2024-01-26T19:14:48.619134Z",
     "iopub.status.busy": "2024-01-26T19:14:48.618234Z",
     "iopub.status.idle": "2024-01-26T19:14:48.661421Z",
     "shell.execute_reply": "2024-01-26T19:14:48.660942Z",
     "shell.execute_reply.started": "2024-01-26T19:14:48.619090Z"
    },
    "tags": []
   },
   "source": [
    "\n",
    "gdf_llaf = gdf[['imo',\"timestamp\",'time_diff','valid_duration' ,'p', 'vref', 'sfc_me', 'sfc_ae', 'sfc_ab', 'ael', 'abl',\n",
    "               'MS', 'LF', 'location', 'activity', 'OGV',     'Tier', 'valid_mode']].copy()"
   ]
  },
  {
   "cell_type": "code",
   "execution_count": 184,
   "id": "f883e93e-af91-46ae-87ca-2c2df0960663",
   "metadata": {
    "execution": {
     "iopub.execute_input": "2024-01-27T05:18:23.018086Z",
     "iopub.status.busy": "2024-01-27T05:18:23.017413Z",
     "iopub.status.idle": "2024-01-27T05:18:23.319013Z",
     "shell.execute_reply": "2024-01-27T05:18:23.318376Z",
     "shell.execute_reply.started": "2024-01-27T05:18:23.018050Z"
    },
    "tags": []
   },
   "outputs": [
    {
     "data": {
      "text/plain": [
       "valid_duration    0\n",
       "p                 0\n",
       "vref              0\n",
       "sfc_me            0\n",
       "MS                0\n",
       "LF                0\n",
       "dtype: int64"
      ]
     },
     "execution_count": 184,
     "metadata": {},
     "output_type": "execute_result"
    }
   ],
   "source": [
    "df_peef = df[['imo',\"timestamp\",'time_diff','valid_duration' ,\"engine_type\", 'p', 'vref', 'sfc_me', \n",
    "               'MS', 'LF',  'Tier', 'valid_mode']].copy()\n",
    "df_peef[['valid_duration', 'p', 'vref', 'sfc_me','MS', 'LF']] = df_peef[['valid_duration', 'p', 'vref', 'sfc_me','MS', 'LF']].fillna(0)\n",
    "df_peef[['valid_duration', 'p', 'vref', 'sfc_me','MS', 'LF']].isna().sum()"
   ]
  },
  {
   "cell_type": "markdown",
   "id": "72cbf4d9-c1d4-438a-afaa-9809f4c1d71b",
   "metadata": {},
   "source": [
    "### gdf_aeef"
   ]
  },
  {
   "cell_type": "code",
   "execution_count": 182,
   "id": "94c6561e-3789-4119-af4c-914c1f9c1a08",
   "metadata": {
    "execution": {
     "iopub.execute_input": "2024-01-27T05:17:46.686006Z",
     "iopub.status.busy": "2024-01-27T05:17:46.684764Z",
     "iopub.status.idle": "2024-01-27T05:17:47.308515Z",
     "shell.execute_reply": "2024-01-27T05:17:47.307511Z",
     "shell.execute_reply.started": "2024-01-27T05:17:46.685942Z"
    },
    "tags": []
   },
   "outputs": [
    {
     "data": {
      "text/plain": [
       "valid_duration    0\n",
       "p                 0\n",
       "vref              0\n",
       "sfc_ae            0\n",
       "ael               0\n",
       "MS                0\n",
       "LF                0\n",
       "dtype: int64"
      ]
     },
     "execution_count": 182,
     "metadata": {},
     "output_type": "execute_result"
    }
   ],
   "source": [
    "df_aeef = df[['imo',\"timestamp\",'time_diff','valid_duration' ,'p', 'vref', 'sfc_ae',  'ael', \n",
    "               'MS', 'LF', 'Tier', 'valid_mode']].copy()\n",
    "df_aeef[['valid_duration', 'p', 'vref', 'sfc_ae', 'ael','MS', 'LF']] = df_aeef[['valid_duration', 'p', 'vref', 'sfc_ae', 'ael','MS', 'LF']].fillna(0)\n",
    "df_aeef[['valid_duration', 'p', 'vref', 'sfc_ae', 'ael','MS', 'LF']].isna().sum()"
   ]
  },
  {
   "cell_type": "code",
   "execution_count": 183,
   "id": "683c4987-489d-4263-a7bf-1134db66b7d2",
   "metadata": {
    "execution": {
     "iopub.execute_input": "2024-01-27T05:17:54.616751Z",
     "iopub.status.busy": "2024-01-27T05:17:54.615841Z",
     "iopub.status.idle": "2024-01-27T05:17:54.648830Z",
     "shell.execute_reply": "2024-01-27T05:17:54.648382Z",
     "shell.execute_reply.started": "2024-01-27T05:17:54.616704Z"
    },
    "tags": []
   },
   "outputs": [],
   "source": [
    "df_aeef['ael_bin'] = pd.cut(df_aeef['ael'], bins=[-float(\"inf\"), 800, float(\"inf\")], labels=['< 800 kW', '> 800 kW'])"
   ]
  },
  {
   "cell_type": "markdown",
   "id": "b2ba6f41-5a0f-4009-ad10-2ef5d0121164",
   "metadata": {},
   "source": [
    "### gdf_boiler"
   ]
  },
  {
   "cell_type": "code",
   "execution_count": 185,
   "id": "d35664fd-2bf1-4cf2-8e70-9135160438f1",
   "metadata": {
    "execution": {
     "iopub.execute_input": "2024-01-27T05:18:32.733739Z",
     "iopub.status.busy": "2024-01-27T05:18:32.733148Z",
     "iopub.status.idle": "2024-01-27T05:18:33.157768Z",
     "shell.execute_reply": "2024-01-27T05:18:33.157123Z",
     "shell.execute_reply.started": "2024-01-27T05:18:32.733706Z"
    },
    "tags": []
   },
   "outputs": [
    {
     "data": {
      "text/plain": [
       "valid_duration    0\n",
       "p                 0\n",
       "vref              0\n",
       "sfc_ab            0\n",
       "abl               0\n",
       "MS                0\n",
       "LF                0\n",
       "dtype: int64"
      ]
     },
     "execution_count": 185,
     "metadata": {},
     "output_type": "execute_result"
    }
   ],
   "source": [
    "df_boiler = df[['imo',\"timestamp\",'time_diff','valid_duration','p', 'vref', 'sfc_ab', 'abl',\n",
    "               'MS', 'LF',   'Tier', 'valid_mode']].copy()\n",
    "df_boiler[['valid_duration', 'p', 'vref', 'sfc_ab', 'abl','MS', 'LF']] = df_boiler[['valid_duration', 'p', 'vref', 'sfc_ab', 'abl','MS', 'LF']].fillna(0)\n",
    "\n",
    "df_boiler[['valid_duration', 'p', 'vref', 'sfc_ab', 'abl','MS', 'LF']].isna().sum()"
   ]
  },
  {
   "cell_type": "markdown",
   "id": "ede05981-46d2-42f5-9b20-90da7945bbbd",
   "metadata": {},
   "source": [
    "## Step 7e: \n",
    "If LF < 0.2 and mode is transit or maneuver, then LF will be defaulted to 0 .2.\n",
    "\n",
    "Note: this default is not applied when identifying LLAF\n",
    "\n"
   ]
  },
  {
   "cell_type": "code",
   "execution_count": 186,
   "id": "b7baee1d-32dc-45c1-84bf-dc000f04aa11",
   "metadata": {
    "execution": {
     "iopub.execute_input": "2024-01-27T05:18:50.249162Z",
     "iopub.status.busy": "2024-01-27T05:18:50.248128Z",
     "iopub.status.idle": "2024-01-27T05:18:50.268445Z",
     "shell.execute_reply": "2024-01-27T05:18:50.267956Z",
     "shell.execute_reply.started": "2024-01-27T05:18:50.249117Z"
    },
    "tags": []
   },
   "outputs": [],
   "source": [
    "condition = (df['LF']<0.2) & ((df.valid_mode==1)|(df.valid_mode==3))\n",
    "df.loc[condition,'LF'] = 0.2"
   ]
  },
  {
   "cell_type": "code",
   "execution_count": 187,
   "id": "5f8fd72f-88ec-48ac-b047-42ba1bc7b3ad",
   "metadata": {
    "execution": {
     "iopub.execute_input": "2024-01-27T05:18:51.375173Z",
     "iopub.status.busy": "2024-01-27T05:18:51.374240Z",
     "iopub.status.idle": "2024-01-27T05:18:51.441606Z",
     "shell.execute_reply": "2024-01-27T05:18:51.441032Z",
     "shell.execute_reply.started": "2024-01-27T05:18:51.375128Z"
    },
    "tags": []
   },
   "outputs": [
    {
     "data": {
      "text/plain": [
       "count    2.011025e+06\n",
       "mean     2.698117e-01\n",
       "std      9.751662e+00\n",
       "min      0.000000e+00\n",
       "25%      0.000000e+00\n",
       "50%      0.000000e+00\n",
       "75%      0.000000e+00\n",
       "max      1.426501e+03\n",
       "Name: LF, dtype: float64"
      ]
     },
     "execution_count": 187,
     "metadata": {},
     "output_type": "execute_result"
    }
   ],
   "source": [
    "df.LF.describe()"
   ]
  },
  {
   "cell_type": "markdown",
   "id": "83ed3baa-500c-4e4c-8323-343b3015aa8e",
   "metadata": {},
   "source": [
    "## Step 7f: \n",
    "Emission factor (EF) table is provided. \n",
    "- Singapore is a non-Emission Controlled Area (ECA) so Global 2020 rows are applicable.\n",
    "- The EF table has some formulas applied for certain pollutants:"
   ]
  },
  {
   "cell_type": "code",
   "execution_count": 47,
   "id": "c2c72a98-f288-4118-9b4b-342461bf2d9a",
   "metadata": {
    "execution": {
     "iopub.execute_input": "2024-01-26T23:10:07.725386Z",
     "iopub.status.busy": "2024-01-26T23:10:07.724361Z",
     "iopub.status.idle": "2024-01-26T23:10:07.742587Z",
     "shell.execute_reply": "2024-01-26T23:10:07.741928Z",
     "shell.execute_reply.started": "2024-01-26T23:10:07.725343Z"
    },
    "tags": []
   },
   "outputs": [],
   "source": [
    "path = \"/Users/luozeming/Desktop/1Hackathon/Category A (University Level) - NUS-RightShip Hackathon 2024/supplementary_tables/propulsion_engine_emission_factors.csv\"\n",
    "peef = pd.read_csv(path)"
   ]
  },
  {
   "cell_type": "code",
   "execution_count": 48,
   "id": "1c8276c4-1bfe-4918-8095-50bce79976dc",
   "metadata": {
    "execution": {
     "iopub.execute_input": "2024-01-26T23:10:08.350838Z",
     "iopub.status.busy": "2024-01-26T23:10:08.349780Z",
     "iopub.status.idle": "2024-01-26T23:10:08.367243Z",
     "shell.execute_reply": "2024-01-26T23:10:08.366243Z",
     "shell.execute_reply.started": "2024-01-26T23:10:08.350788Z"
    },
    "tags": []
   },
   "outputs": [],
   "source": [
    "path = \"/Users/luozeming/Desktop/1Hackathon/Category A (University Level) - NUS-RightShip Hackathon 2024/supplementary_tables/auxiliary_engine_emission_factors.csv\"\n",
    "aeef = pd.read_csv(path)"
   ]
  },
  {
   "cell_type": "markdown",
   "id": "3d0dd4bf-df22-42c2-9b67-2d1d44c0f741",
   "metadata": {},
   "source": [
    "#### peef"
   ]
  },
  {
   "cell_type": "code",
   "execution_count": 67,
   "id": "f137ae50-9289-4bd5-bc9b-65a456025967",
   "metadata": {
    "execution": {
     "iopub.execute_input": "2024-01-26T18:46:39.473182Z",
     "iopub.status.busy": "2024-01-26T18:46:39.472079Z",
     "iopub.status.idle": "2024-01-26T18:46:39.506504Z",
     "shell.execute_reply": "2024-01-26T18:46:39.505974Z",
     "shell.execute_reply.started": "2024-01-26T18:46:39.473126Z"
    },
    "scrolled": true,
    "tags": []
   },
   "outputs": [
    {
     "data": {
      "text/html": [
       "<div>\n",
       "<style scoped>\n",
       "    .dataframe tbody tr th:only-of-type {\n",
       "        vertical-align: middle;\n",
       "    }\n",
       "\n",
       "    .dataframe tbody tr th {\n",
       "        vertical-align: top;\n",
       "    }\n",
       "\n",
       "    .dataframe thead th {\n",
       "        text-align: right;\n",
       "    }\n",
       "</style>\n",
       "<table border=\"1\" class=\"dataframe\">\n",
       "  <thead>\n",
       "    <tr style=\"text-align: right;\">\n",
       "      <th></th>\n",
       "      <th>fuel</th>\n",
       "      <th>fuel_category</th>\n",
       "      <th>sulfur</th>\n",
       "      <th>engine_type</th>\n",
       "      <th>emission_tier</th>\n",
       "      <th>model_years</th>\n",
       "      <th>nox</th>\n",
       "      <th>pm10</th>\n",
       "      <th>pm2_5</th>\n",
       "      <th>voc</th>\n",
       "      <th>sox</th>\n",
       "      <th>n2_O</th>\n",
       "      <th>ch4</th>\n",
       "      <th>bsfc</th>\n",
       "    </tr>\n",
       "  </thead>\n",
       "  <tbody>\n",
       "    <tr>\n",
       "      <th>0</th>\n",
       "      <td>HFO (outside ECA and prior to 2020)</td>\n",
       "      <td>1</td>\n",
       "      <td>2.70%</td>\n",
       "      <td>SSD</td>\n",
       "      <td>0</td>\n",
       "      <td>Pre-2000</td>\n",
       "      <td>18.1</td>\n",
       "      <td>1.42</td>\n",
       "      <td>1.31</td>\n",
       "      <td>0.632</td>\n",
       "      <td>10.293</td>\n",
       "      <td>0.031</td>\n",
       "      <td>0.01</td>\n",
       "      <td>195</td>\n",
       "    </tr>\n",
       "    <tr>\n",
       "      <th>1</th>\n",
       "      <td>HFO (outside ECA and prior to 2020)</td>\n",
       "      <td>1</td>\n",
       "      <td>2.70%</td>\n",
       "      <td>SSD</td>\n",
       "      <td>1</td>\n",
       "      <td>2000-2010</td>\n",
       "      <td>17.0</td>\n",
       "      <td>1.42</td>\n",
       "      <td>1.31</td>\n",
       "      <td>0.632</td>\n",
       "      <td>10.293</td>\n",
       "      <td>0.031</td>\n",
       "      <td>0.01</td>\n",
       "      <td>195</td>\n",
       "    </tr>\n",
       "    <tr>\n",
       "      <th>2</th>\n",
       "      <td>HFO (outside ECA and prior to 2020)</td>\n",
       "      <td>1</td>\n",
       "      <td>2.70%</td>\n",
       "      <td>SSD</td>\n",
       "      <td>2</td>\n",
       "      <td>post 2010</td>\n",
       "      <td>15.3</td>\n",
       "      <td>1.42</td>\n",
       "      <td>1.31</td>\n",
       "      <td>0.632</td>\n",
       "      <td>10.293</td>\n",
       "      <td>0.031</td>\n",
       "      <td>0.01</td>\n",
       "      <td>195</td>\n",
       "    </tr>\n",
       "    <tr>\n",
       "      <th>3</th>\n",
       "      <td>HFO (outside ECA and prior to 2020)</td>\n",
       "      <td>1</td>\n",
       "      <td>2.70%</td>\n",
       "      <td>MSD</td>\n",
       "      <td>0</td>\n",
       "      <td>Pre-2000</td>\n",
       "      <td>14.0</td>\n",
       "      <td>1.43</td>\n",
       "      <td>1.32</td>\n",
       "      <td>0.530</td>\n",
       "      <td>11.244</td>\n",
       "      <td>0.030</td>\n",
       "      <td>0.01</td>\n",
       "      <td>213</td>\n",
       "    </tr>\n",
       "    <tr>\n",
       "      <th>4</th>\n",
       "      <td>HFO (outside ECA and prior to 2020)</td>\n",
       "      <td>1</td>\n",
       "      <td>2.70%</td>\n",
       "      <td>MSD</td>\n",
       "      <td>1</td>\n",
       "      <td>2000-2010</td>\n",
       "      <td>13.0</td>\n",
       "      <td>1.43</td>\n",
       "      <td>1.32</td>\n",
       "      <td>0.530</td>\n",
       "      <td>11.244</td>\n",
       "      <td>0.030</td>\n",
       "      <td>0.01</td>\n",
       "      <td>213</td>\n",
       "    </tr>\n",
       "    <tr>\n",
       "      <th>5</th>\n",
       "      <td>HFO (outside ECA and prior to 2020)</td>\n",
       "      <td>1</td>\n",
       "      <td>2.70%</td>\n",
       "      <td>MSD</td>\n",
       "      <td>2</td>\n",
       "      <td>post 2010</td>\n",
       "      <td>11.2</td>\n",
       "      <td>1.43</td>\n",
       "      <td>1.32</td>\n",
       "      <td>0.530</td>\n",
       "      <td>11.244</td>\n",
       "      <td>0.030</td>\n",
       "      <td>0.01</td>\n",
       "      <td>213</td>\n",
       "    </tr>\n",
       "    <tr>\n",
       "      <th>6</th>\n",
       "      <td>Global 2020</td>\n",
       "      <td>2</td>\n",
       "      <td>0.50%</td>\n",
       "      <td>SSD</td>\n",
       "      <td>0</td>\n",
       "      <td>Pre-2000</td>\n",
       "      <td>17.0</td>\n",
       "      <td>0.31</td>\n",
       "      <td>0.28</td>\n",
       "      <td>0.632</td>\n",
       "      <td>1.808</td>\n",
       "      <td>0.034</td>\n",
       "      <td>0.01</td>\n",
       "      <td>185</td>\n",
       "    </tr>\n",
       "    <tr>\n",
       "      <th>7</th>\n",
       "      <td>Global 2020</td>\n",
       "      <td>2</td>\n",
       "      <td>0.50%</td>\n",
       "      <td>SSD</td>\n",
       "      <td>1</td>\n",
       "      <td>2000-2010</td>\n",
       "      <td>16.0</td>\n",
       "      <td>0.31</td>\n",
       "      <td>0.28</td>\n",
       "      <td>0.632</td>\n",
       "      <td>1.808</td>\n",
       "      <td>0.034</td>\n",
       "      <td>0.01</td>\n",
       "      <td>185</td>\n",
       "    </tr>\n",
       "    <tr>\n",
       "      <th>8</th>\n",
       "      <td>Global 2020</td>\n",
       "      <td>2</td>\n",
       "      <td>0.50%</td>\n",
       "      <td>SSD</td>\n",
       "      <td>2</td>\n",
       "      <td>post 2010</td>\n",
       "      <td>14.4</td>\n",
       "      <td>0.31</td>\n",
       "      <td>0.28</td>\n",
       "      <td>0.632</td>\n",
       "      <td>1.808</td>\n",
       "      <td>0.034</td>\n",
       "      <td>0.01</td>\n",
       "      <td>185</td>\n",
       "    </tr>\n",
       "    <tr>\n",
       "      <th>9</th>\n",
       "      <td>Global 2020</td>\n",
       "      <td>2</td>\n",
       "      <td>0.50%</td>\n",
       "      <td>MSD</td>\n",
       "      <td>0</td>\n",
       "      <td>Pre-2000</td>\n",
       "      <td>13.2</td>\n",
       "      <td>0.31</td>\n",
       "      <td>0.29</td>\n",
       "      <td>0.530</td>\n",
       "      <td>1.984</td>\n",
       "      <td>0.030</td>\n",
       "      <td>0.01</td>\n",
       "      <td>203</td>\n",
       "    </tr>\n",
       "    <tr>\n",
       "      <th>10</th>\n",
       "      <td>Global 2020</td>\n",
       "      <td>2</td>\n",
       "      <td>0.50%</td>\n",
       "      <td>MSD</td>\n",
       "      <td>1</td>\n",
       "      <td>2000-2010</td>\n",
       "      <td>12.2</td>\n",
       "      <td>0.31</td>\n",
       "      <td>0.29</td>\n",
       "      <td>0.530</td>\n",
       "      <td>1.984</td>\n",
       "      <td>0.030</td>\n",
       "      <td>0.01</td>\n",
       "      <td>203</td>\n",
       "    </tr>\n",
       "    <tr>\n",
       "      <th>11</th>\n",
       "      <td>Global 2020</td>\n",
       "      <td>2</td>\n",
       "      <td>0.50%</td>\n",
       "      <td>MSD</td>\n",
       "      <td>2</td>\n",
       "      <td>post 2010</td>\n",
       "      <td>10.5</td>\n",
       "      <td>0.31</td>\n",
       "      <td>0.29</td>\n",
       "      <td>0.530</td>\n",
       "      <td>1.984</td>\n",
       "      <td>0.030</td>\n",
       "      <td>0.01</td>\n",
       "      <td>203</td>\n",
       "    </tr>\n",
       "    <tr>\n",
       "      <th>12</th>\n",
       "      <td>ECA areas only</td>\n",
       "      <td>3</td>\n",
       "      <td>0.10%</td>\n",
       "      <td>SSD</td>\n",
       "      <td>0</td>\n",
       "      <td>Pre-2000</td>\n",
       "      <td>17.0</td>\n",
       "      <td>0.19</td>\n",
       "      <td>0.17</td>\n",
       "      <td>0.632</td>\n",
       "      <td>0.362</td>\n",
       "      <td>0.029</td>\n",
       "      <td>0.01</td>\n",
       "      <td>185</td>\n",
       "    </tr>\n",
       "    <tr>\n",
       "      <th>13</th>\n",
       "      <td>ECA areas only</td>\n",
       "      <td>3</td>\n",
       "      <td>0.10%</td>\n",
       "      <td>SSD</td>\n",
       "      <td>1</td>\n",
       "      <td>2000-2010</td>\n",
       "      <td>16.0</td>\n",
       "      <td>0.19</td>\n",
       "      <td>0.17</td>\n",
       "      <td>0.632</td>\n",
       "      <td>0.362</td>\n",
       "      <td>0.029</td>\n",
       "      <td>0.01</td>\n",
       "      <td>185</td>\n",
       "    </tr>\n",
       "    <tr>\n",
       "      <th>14</th>\n",
       "      <td>ECA areas only</td>\n",
       "      <td>3</td>\n",
       "      <td>0.10%</td>\n",
       "      <td>SSD</td>\n",
       "      <td>2</td>\n",
       "      <td>2011-2015</td>\n",
       "      <td>14.4</td>\n",
       "      <td>0.19</td>\n",
       "      <td>0.17</td>\n",
       "      <td>0.632</td>\n",
       "      <td>0.362</td>\n",
       "      <td>0.029</td>\n",
       "      <td>0.01</td>\n",
       "      <td>185</td>\n",
       "    </tr>\n",
       "    <tr>\n",
       "      <th>15</th>\n",
       "      <td>ECA areas only</td>\n",
       "      <td>3</td>\n",
       "      <td>0.10%</td>\n",
       "      <td>SSD</td>\n",
       "      <td>3</td>\n",
       "      <td>post 2015</td>\n",
       "      <td>3.4</td>\n",
       "      <td>0.19</td>\n",
       "      <td>0.17</td>\n",
       "      <td>0.632</td>\n",
       "      <td>0.362</td>\n",
       "      <td>0.029</td>\n",
       "      <td>0.01</td>\n",
       "      <td>185</td>\n",
       "    </tr>\n",
       "    <tr>\n",
       "      <th>16</th>\n",
       "      <td>ECA areas only</td>\n",
       "      <td>3</td>\n",
       "      <td>0.10%</td>\n",
       "      <td>MSD</td>\n",
       "      <td>0</td>\n",
       "      <td>Pre-2000</td>\n",
       "      <td>13.2</td>\n",
       "      <td>0.19</td>\n",
       "      <td>0.17</td>\n",
       "      <td>0.530</td>\n",
       "      <td>0.397</td>\n",
       "      <td>0.029</td>\n",
       "      <td>0.01</td>\n",
       "      <td>203</td>\n",
       "    </tr>\n",
       "    <tr>\n",
       "      <th>17</th>\n",
       "      <td>ECA areas only</td>\n",
       "      <td>3</td>\n",
       "      <td>0.10%</td>\n",
       "      <td>MSD</td>\n",
       "      <td>1</td>\n",
       "      <td>2000-2010</td>\n",
       "      <td>12.2</td>\n",
       "      <td>0.19</td>\n",
       "      <td>0.17</td>\n",
       "      <td>0.530</td>\n",
       "      <td>0.397</td>\n",
       "      <td>0.029</td>\n",
       "      <td>0.01</td>\n",
       "      <td>203</td>\n",
       "    </tr>\n",
       "    <tr>\n",
       "      <th>18</th>\n",
       "      <td>ECA areas only</td>\n",
       "      <td>3</td>\n",
       "      <td>0.10%</td>\n",
       "      <td>MSD</td>\n",
       "      <td>2</td>\n",
       "      <td>2011-2015</td>\n",
       "      <td>10.5</td>\n",
       "      <td>0.19</td>\n",
       "      <td>0.17</td>\n",
       "      <td>0.530</td>\n",
       "      <td>0.397</td>\n",
       "      <td>0.029</td>\n",
       "      <td>0.01</td>\n",
       "      <td>203</td>\n",
       "    </tr>\n",
       "    <tr>\n",
       "      <th>19</th>\n",
       "      <td>ECA areas only</td>\n",
       "      <td>3</td>\n",
       "      <td>0.10%</td>\n",
       "      <td>MSD</td>\n",
       "      <td>3</td>\n",
       "      <td>post 2015</td>\n",
       "      <td>2.6</td>\n",
       "      <td>0.19</td>\n",
       "      <td>0.17</td>\n",
       "      <td>0.530</td>\n",
       "      <td>0.397</td>\n",
       "      <td>0.029</td>\n",
       "      <td>0.01</td>\n",
       "      <td>203</td>\n",
       "    </tr>\n",
       "  </tbody>\n",
       "</table>\n",
       "</div>"
      ],
      "text/plain": [
       "                                   fuel  fuel_category sulfur engine_type  \\\n",
       "0   HFO (outside ECA and prior to 2020)              1  2.70%         SSD   \n",
       "1   HFO (outside ECA and prior to 2020)              1  2.70%         SSD   \n",
       "2   HFO (outside ECA and prior to 2020)              1  2.70%         SSD   \n",
       "3   HFO (outside ECA and prior to 2020)              1  2.70%         MSD   \n",
       "4   HFO (outside ECA and prior to 2020)              1  2.70%         MSD   \n",
       "5   HFO (outside ECA and prior to 2020)              1  2.70%         MSD   \n",
       "6                           Global 2020              2  0.50%         SSD   \n",
       "7                           Global 2020              2  0.50%         SSD   \n",
       "8                           Global 2020              2  0.50%         SSD   \n",
       "9                           Global 2020              2  0.50%         MSD   \n",
       "10                          Global 2020              2  0.50%         MSD   \n",
       "11                          Global 2020              2  0.50%         MSD   \n",
       "12                       ECA areas only              3  0.10%         SSD   \n",
       "13                       ECA areas only              3  0.10%         SSD   \n",
       "14                       ECA areas only              3  0.10%         SSD   \n",
       "15                       ECA areas only              3  0.10%         SSD   \n",
       "16                       ECA areas only              3  0.10%         MSD   \n",
       "17                       ECA areas only              3  0.10%         MSD   \n",
       "18                       ECA areas only              3  0.10%         MSD   \n",
       "19                       ECA areas only              3  0.10%         MSD   \n",
       "\n",
       "    emission_tier model_years   nox  pm10  pm2_5    voc     sox   n2_O   ch4  \\\n",
       "0               0    Pre-2000  18.1  1.42   1.31  0.632  10.293  0.031  0.01   \n",
       "1               1   2000-2010  17.0  1.42   1.31  0.632  10.293  0.031  0.01   \n",
       "2               2   post 2010  15.3  1.42   1.31  0.632  10.293  0.031  0.01   \n",
       "3               0    Pre-2000  14.0  1.43   1.32  0.530  11.244  0.030  0.01   \n",
       "4               1   2000-2010  13.0  1.43   1.32  0.530  11.244  0.030  0.01   \n",
       "5               2   post 2010  11.2  1.43   1.32  0.530  11.244  0.030  0.01   \n",
       "6               0    Pre-2000  17.0  0.31   0.28  0.632   1.808  0.034  0.01   \n",
       "7               1   2000-2010  16.0  0.31   0.28  0.632   1.808  0.034  0.01   \n",
       "8               2   post 2010  14.4  0.31   0.28  0.632   1.808  0.034  0.01   \n",
       "9               0    Pre-2000  13.2  0.31   0.29  0.530   1.984  0.030  0.01   \n",
       "10              1   2000-2010  12.2  0.31   0.29  0.530   1.984  0.030  0.01   \n",
       "11              2   post 2010  10.5  0.31   0.29  0.530   1.984  0.030  0.01   \n",
       "12              0    Pre-2000  17.0  0.19   0.17  0.632   0.362  0.029  0.01   \n",
       "13              1   2000-2010  16.0  0.19   0.17  0.632   0.362  0.029  0.01   \n",
       "14              2   2011-2015  14.4  0.19   0.17  0.632   0.362  0.029  0.01   \n",
       "15              3   post 2015   3.4  0.19   0.17  0.632   0.362  0.029  0.01   \n",
       "16              0    Pre-2000  13.2  0.19   0.17  0.530   0.397  0.029  0.01   \n",
       "17              1   2000-2010  12.2  0.19   0.17  0.530   0.397  0.029  0.01   \n",
       "18              2   2011-2015  10.5  0.19   0.17  0.530   0.397  0.029  0.01   \n",
       "19              3   post 2015   2.6  0.19   0.17  0.530   0.397  0.029  0.01   \n",
       "\n",
       "    bsfc  \n",
       "0    195  \n",
       "1    195  \n",
       "2    195  \n",
       "3    213  \n",
       "4    213  \n",
       "5    213  \n",
       "6    185  \n",
       "7    185  \n",
       "8    185  \n",
       "9    203  \n",
       "10   203  \n",
       "11   203  \n",
       "12   185  \n",
       "13   185  \n",
       "14   185  \n",
       "15   185  \n",
       "16   203  \n",
       "17   203  \n",
       "18   203  \n",
       "19   203  "
      ]
     },
     "execution_count": 67,
     "metadata": {},
     "output_type": "execute_result"
    }
   ],
   "source": [
    "peef"
   ]
  },
  {
   "cell_type": "code",
   "execution_count": 49,
   "id": "8a6ec8ad-2620-486f-9dbd-545ed4fd01c8",
   "metadata": {
    "execution": {
     "iopub.execute_input": "2024-01-26T23:10:12.310154Z",
     "iopub.status.busy": "2024-01-26T23:10:12.309649Z",
     "iopub.status.idle": "2024-01-26T23:10:12.321179Z",
     "shell.execute_reply": "2024-01-26T23:10:12.320076Z",
     "shell.execute_reply.started": "2024-01-26T23:10:12.310121Z"
    },
    "tags": []
   },
   "outputs": [],
   "source": [
    "peef = peef[peef.fuel == \"Global 2020\"]"
   ]
  },
  {
   "cell_type": "code",
   "execution_count": 92,
   "id": "989545d4-c10f-48be-a93d-c4c915e97160",
   "metadata": {
    "execution": {
     "iopub.execute_input": "2024-01-26T18:58:37.287506Z",
     "iopub.status.busy": "2024-01-26T18:58:37.286748Z",
     "iopub.status.idle": "2024-01-26T18:58:37.310355Z",
     "shell.execute_reply": "2024-01-26T18:58:37.309813Z",
     "shell.execute_reply.started": "2024-01-26T18:58:37.287460Z"
    },
    "tags": []
   },
   "outputs": [
    {
     "data": {
      "text/html": [
       "<div>\n",
       "<style scoped>\n",
       "    .dataframe tbody tr th:only-of-type {\n",
       "        vertical-align: middle;\n",
       "    }\n",
       "\n",
       "    .dataframe tbody tr th {\n",
       "        vertical-align: top;\n",
       "    }\n",
       "\n",
       "    .dataframe thead th {\n",
       "        text-align: right;\n",
       "    }\n",
       "</style>\n",
       "<table border=\"1\" class=\"dataframe\">\n",
       "  <thead>\n",
       "    <tr style=\"text-align: right;\">\n",
       "      <th></th>\n",
       "      <th>fuel</th>\n",
       "      <th>fuel_category</th>\n",
       "      <th>sulfur</th>\n",
       "      <th>engine_type</th>\n",
       "      <th>emission_tier</th>\n",
       "      <th>model_years</th>\n",
       "      <th>nox</th>\n",
       "      <th>pm10</th>\n",
       "      <th>pm2_5</th>\n",
       "      <th>voc</th>\n",
       "      <th>sox</th>\n",
       "      <th>n2_O</th>\n",
       "      <th>ch4</th>\n",
       "      <th>bsfc</th>\n",
       "    </tr>\n",
       "  </thead>\n",
       "  <tbody>\n",
       "    <tr>\n",
       "      <th>6</th>\n",
       "      <td>Global 2020</td>\n",
       "      <td>2</td>\n",
       "      <td>0.50%</td>\n",
       "      <td>SSD</td>\n",
       "      <td>0</td>\n",
       "      <td>Pre-2000</td>\n",
       "      <td>17.0</td>\n",
       "      <td>0.31</td>\n",
       "      <td>0.28</td>\n",
       "      <td>0.632</td>\n",
       "      <td>1.808</td>\n",
       "      <td>0.034</td>\n",
       "      <td>0.01</td>\n",
       "      <td>185</td>\n",
       "    </tr>\n",
       "    <tr>\n",
       "      <th>7</th>\n",
       "      <td>Global 2020</td>\n",
       "      <td>2</td>\n",
       "      <td>0.50%</td>\n",
       "      <td>SSD</td>\n",
       "      <td>1</td>\n",
       "      <td>2000-2010</td>\n",
       "      <td>16.0</td>\n",
       "      <td>0.31</td>\n",
       "      <td>0.28</td>\n",
       "      <td>0.632</td>\n",
       "      <td>1.808</td>\n",
       "      <td>0.034</td>\n",
       "      <td>0.01</td>\n",
       "      <td>185</td>\n",
       "    </tr>\n",
       "    <tr>\n",
       "      <th>8</th>\n",
       "      <td>Global 2020</td>\n",
       "      <td>2</td>\n",
       "      <td>0.50%</td>\n",
       "      <td>SSD</td>\n",
       "      <td>2</td>\n",
       "      <td>post 2010</td>\n",
       "      <td>14.4</td>\n",
       "      <td>0.31</td>\n",
       "      <td>0.28</td>\n",
       "      <td>0.632</td>\n",
       "      <td>1.808</td>\n",
       "      <td>0.034</td>\n",
       "      <td>0.01</td>\n",
       "      <td>185</td>\n",
       "    </tr>\n",
       "    <tr>\n",
       "      <th>9</th>\n",
       "      <td>Global 2020</td>\n",
       "      <td>2</td>\n",
       "      <td>0.50%</td>\n",
       "      <td>MSD</td>\n",
       "      <td>0</td>\n",
       "      <td>Pre-2000</td>\n",
       "      <td>13.2</td>\n",
       "      <td>0.31</td>\n",
       "      <td>0.29</td>\n",
       "      <td>0.530</td>\n",
       "      <td>1.984</td>\n",
       "      <td>0.030</td>\n",
       "      <td>0.01</td>\n",
       "      <td>203</td>\n",
       "    </tr>\n",
       "    <tr>\n",
       "      <th>10</th>\n",
       "      <td>Global 2020</td>\n",
       "      <td>2</td>\n",
       "      <td>0.50%</td>\n",
       "      <td>MSD</td>\n",
       "      <td>1</td>\n",
       "      <td>2000-2010</td>\n",
       "      <td>12.2</td>\n",
       "      <td>0.31</td>\n",
       "      <td>0.29</td>\n",
       "      <td>0.530</td>\n",
       "      <td>1.984</td>\n",
       "      <td>0.030</td>\n",
       "      <td>0.01</td>\n",
       "      <td>203</td>\n",
       "    </tr>\n",
       "    <tr>\n",
       "      <th>11</th>\n",
       "      <td>Global 2020</td>\n",
       "      <td>2</td>\n",
       "      <td>0.50%</td>\n",
       "      <td>MSD</td>\n",
       "      <td>2</td>\n",
       "      <td>post 2010</td>\n",
       "      <td>10.5</td>\n",
       "      <td>0.31</td>\n",
       "      <td>0.29</td>\n",
       "      <td>0.530</td>\n",
       "      <td>1.984</td>\n",
       "      <td>0.030</td>\n",
       "      <td>0.01</td>\n",
       "      <td>203</td>\n",
       "    </tr>\n",
       "  </tbody>\n",
       "</table>\n",
       "</div>"
      ],
      "text/plain": [
       "           fuel  fuel_category sulfur engine_type  emission_tier model_years  \\\n",
       "6   Global 2020              2  0.50%         SSD              0    Pre-2000   \n",
       "7   Global 2020              2  0.50%         SSD              1   2000-2010   \n",
       "8   Global 2020              2  0.50%         SSD              2   post 2010   \n",
       "9   Global 2020              2  0.50%         MSD              0    Pre-2000   \n",
       "10  Global 2020              2  0.50%         MSD              1   2000-2010   \n",
       "11  Global 2020              2  0.50%         MSD              2   post 2010   \n",
       "\n",
       "     nox  pm10  pm2_5    voc    sox   n2_O   ch4  bsfc  \n",
       "6   17.0  0.31   0.28  0.632  1.808  0.034  0.01   185  \n",
       "7   16.0  0.31   0.28  0.632  1.808  0.034  0.01   185  \n",
       "8   14.4  0.31   0.28  0.632  1.808  0.034  0.01   185  \n",
       "9   13.2  0.31   0.29  0.530  1.984  0.030  0.01   203  \n",
       "10  12.2  0.31   0.29  0.530  1.984  0.030  0.01   203  \n",
       "11  10.5  0.31   0.29  0.530  1.984  0.030  0.01   203  "
      ]
     },
     "execution_count": 92,
     "metadata": {},
     "output_type": "execute_result"
    }
   ],
   "source": [
    "peef"
   ]
  },
  {
   "cell_type": "markdown",
   "id": "37c16053-9024-4bc3-9e6b-a85af946dcc6",
   "metadata": {},
   "source": [
    "#### aeef"
   ]
  },
  {
   "cell_type": "code",
   "execution_count": 69,
   "id": "a4ee6e12-b587-4057-a4e5-bc669e93b6ca",
   "metadata": {
    "execution": {
     "iopub.execute_input": "2024-01-26T18:46:41.310145Z",
     "iopub.status.busy": "2024-01-26T18:46:41.308766Z",
     "iopub.status.idle": "2024-01-26T18:46:41.341067Z",
     "shell.execute_reply": "2024-01-26T18:46:41.340496Z",
     "shell.execute_reply.started": "2024-01-26T18:46:41.310075Z"
    },
    "scrolled": true,
    "tags": []
   },
   "outputs": [
    {
     "data": {
      "text/html": [
       "<div>\n",
       "<style scoped>\n",
       "    .dataframe tbody tr th:only-of-type {\n",
       "        vertical-align: middle;\n",
       "    }\n",
       "\n",
       "    .dataframe tbody tr th {\n",
       "        vertical-align: top;\n",
       "    }\n",
       "\n",
       "    .dataframe thead th {\n",
       "        text-align: right;\n",
       "    }\n",
       "</style>\n",
       "<table border=\"1\" class=\"dataframe\">\n",
       "  <thead>\n",
       "    <tr style=\"text-align: right;\">\n",
       "      <th></th>\n",
       "      <th>fuel</th>\n",
       "      <th>fuel_category</th>\n",
       "      <th>sulfur</th>\n",
       "      <th>engine_size</th>\n",
       "      <th>emission_tier</th>\n",
       "      <th>model_years</th>\n",
       "      <th>nox</th>\n",
       "      <th>pm10</th>\n",
       "      <th>pm2_5</th>\n",
       "      <th>voc</th>\n",
       "      <th>s_ox</th>\n",
       "      <th>n2_o</th>\n",
       "      <th>ch4</th>\n",
       "      <th>bsfc</th>\n",
       "    </tr>\n",
       "  </thead>\n",
       "  <tbody>\n",
       "    <tr>\n",
       "      <th>0</th>\n",
       "      <td>HFO</td>\n",
       "      <td>1</td>\n",
       "      <td>2.70%</td>\n",
       "      <td>&lt; 800 kW</td>\n",
       "      <td>0</td>\n",
       "      <td>Pre-2000</td>\n",
       "      <td>14.7</td>\n",
       "      <td>1.44</td>\n",
       "      <td>1.32</td>\n",
       "      <td>0.421</td>\n",
       "      <td>12.14</td>\n",
       "      <td>0.040</td>\n",
       "      <td>0.01</td>\n",
       "      <td>230</td>\n",
       "    </tr>\n",
       "    <tr>\n",
       "      <th>1</th>\n",
       "      <td>HFO</td>\n",
       "      <td>1</td>\n",
       "      <td>2.70%</td>\n",
       "      <td>&lt; 800 kW</td>\n",
       "      <td>1</td>\n",
       "      <td>2000-2010</td>\n",
       "      <td>13.0</td>\n",
       "      <td>1.44</td>\n",
       "      <td>1.32</td>\n",
       "      <td>0.421</td>\n",
       "      <td>12.14</td>\n",
       "      <td>0.040</td>\n",
       "      <td>0.01</td>\n",
       "      <td>230</td>\n",
       "    </tr>\n",
       "    <tr>\n",
       "      <th>2</th>\n",
       "      <td>HFO</td>\n",
       "      <td>1</td>\n",
       "      <td>2.70%</td>\n",
       "      <td>&lt; 800 kW</td>\n",
       "      <td>2</td>\n",
       "      <td>post 2010</td>\n",
       "      <td>11.2</td>\n",
       "      <td>1.44</td>\n",
       "      <td>1.32</td>\n",
       "      <td>0.421</td>\n",
       "      <td>12.14</td>\n",
       "      <td>0.040</td>\n",
       "      <td>0.01</td>\n",
       "      <td>230</td>\n",
       "    </tr>\n",
       "    <tr>\n",
       "      <th>3</th>\n",
       "      <td>HFO</td>\n",
       "      <td>1</td>\n",
       "      <td>2.70%</td>\n",
       "      <td>&gt; 800 kW</td>\n",
       "      <td>0</td>\n",
       "      <td>Pre-2000</td>\n",
       "      <td>14.7</td>\n",
       "      <td>1.44</td>\n",
       "      <td>1.33</td>\n",
       "      <td>0.421</td>\n",
       "      <td>12.67</td>\n",
       "      <td>0.040</td>\n",
       "      <td>0.01</td>\n",
       "      <td>240</td>\n",
       "    </tr>\n",
       "    <tr>\n",
       "      <th>4</th>\n",
       "      <td>HFO</td>\n",
       "      <td>1</td>\n",
       "      <td>2.70%</td>\n",
       "      <td>&gt; 800 kW</td>\n",
       "      <td>1</td>\n",
       "      <td>2000-2010</td>\n",
       "      <td>13.0</td>\n",
       "      <td>1.44</td>\n",
       "      <td>1.33</td>\n",
       "      <td>0.421</td>\n",
       "      <td>12.67</td>\n",
       "      <td>0.040</td>\n",
       "      <td>0.01</td>\n",
       "      <td>240</td>\n",
       "    </tr>\n",
       "    <tr>\n",
       "      <th>5</th>\n",
       "      <td>HFO</td>\n",
       "      <td>1</td>\n",
       "      <td>2.70%</td>\n",
       "      <td>&gt; 800 kW</td>\n",
       "      <td>2</td>\n",
       "      <td>post 2010</td>\n",
       "      <td>11.2</td>\n",
       "      <td>1.44</td>\n",
       "      <td>1.33</td>\n",
       "      <td>0.421</td>\n",
       "      <td>12.67</td>\n",
       "      <td>0.040</td>\n",
       "      <td>0.01</td>\n",
       "      <td>240</td>\n",
       "    </tr>\n",
       "    <tr>\n",
       "      <th>6</th>\n",
       "      <td>Global 2020</td>\n",
       "      <td>2</td>\n",
       "      <td>0.50%</td>\n",
       "      <td>&lt; 800 kW</td>\n",
       "      <td>0</td>\n",
       "      <td>Pre-2000</td>\n",
       "      <td>13.8</td>\n",
       "      <td>0.32</td>\n",
       "      <td>0.29</td>\n",
       "      <td>0.421</td>\n",
       "      <td>2.14</td>\n",
       "      <td>0.036</td>\n",
       "      <td>0.01</td>\n",
       "      <td>219</td>\n",
       "    </tr>\n",
       "    <tr>\n",
       "      <th>7</th>\n",
       "      <td>Global 2020</td>\n",
       "      <td>2</td>\n",
       "      <td>0.50%</td>\n",
       "      <td>&lt; 800 kW</td>\n",
       "      <td>1</td>\n",
       "      <td>2000-2010</td>\n",
       "      <td>12.2</td>\n",
       "      <td>0.32</td>\n",
       "      <td>0.29</td>\n",
       "      <td>0.421</td>\n",
       "      <td>2.14</td>\n",
       "      <td>0.036</td>\n",
       "      <td>0.01</td>\n",
       "      <td>219</td>\n",
       "    </tr>\n",
       "    <tr>\n",
       "      <th>8</th>\n",
       "      <td>Global 2020</td>\n",
       "      <td>2</td>\n",
       "      <td>0.50%</td>\n",
       "      <td>&lt; 800 kW</td>\n",
       "      <td>2</td>\n",
       "      <td>post 2010</td>\n",
       "      <td>10.5</td>\n",
       "      <td>0.32</td>\n",
       "      <td>0.29</td>\n",
       "      <td>0.421</td>\n",
       "      <td>2.14</td>\n",
       "      <td>0.036</td>\n",
       "      <td>0.01</td>\n",
       "      <td>219</td>\n",
       "    </tr>\n",
       "    <tr>\n",
       "      <th>9</th>\n",
       "      <td>Global 2020</td>\n",
       "      <td>2</td>\n",
       "      <td>0.50%</td>\n",
       "      <td>&gt; 800 kW</td>\n",
       "      <td>0</td>\n",
       "      <td>Pre-2000</td>\n",
       "      <td>13.8</td>\n",
       "      <td>0.32</td>\n",
       "      <td>0.30</td>\n",
       "      <td>0.421</td>\n",
       "      <td>2.23</td>\n",
       "      <td>0.036</td>\n",
       "      <td>0.01</td>\n",
       "      <td>228</td>\n",
       "    </tr>\n",
       "    <tr>\n",
       "      <th>10</th>\n",
       "      <td>Global 2020</td>\n",
       "      <td>2</td>\n",
       "      <td>0.50%</td>\n",
       "      <td>&gt; 800 kW</td>\n",
       "      <td>1</td>\n",
       "      <td>2000-2010</td>\n",
       "      <td>12.2</td>\n",
       "      <td>0.32</td>\n",
       "      <td>0.30</td>\n",
       "      <td>0.421</td>\n",
       "      <td>2.23</td>\n",
       "      <td>0.036</td>\n",
       "      <td>0.01</td>\n",
       "      <td>228</td>\n",
       "    </tr>\n",
       "    <tr>\n",
       "      <th>11</th>\n",
       "      <td>Global 2020</td>\n",
       "      <td>2</td>\n",
       "      <td>0.50%</td>\n",
       "      <td>&gt; 800 kW</td>\n",
       "      <td>2</td>\n",
       "      <td>post 2010</td>\n",
       "      <td>10.5</td>\n",
       "      <td>0.32</td>\n",
       "      <td>0.30</td>\n",
       "      <td>0.421</td>\n",
       "      <td>2.23</td>\n",
       "      <td>0.036</td>\n",
       "      <td>0.01</td>\n",
       "      <td>228</td>\n",
       "    </tr>\n",
       "    <tr>\n",
       "      <th>12</th>\n",
       "      <td>ECA Areas</td>\n",
       "      <td>3</td>\n",
       "      <td>0.10%</td>\n",
       "      <td>&lt; 800 kW</td>\n",
       "      <td>0</td>\n",
       "      <td>Pre-2000</td>\n",
       "      <td>13.8</td>\n",
       "      <td>0.18</td>\n",
       "      <td>0.17</td>\n",
       "      <td>0.421</td>\n",
       "      <td>0.43</td>\n",
       "      <td>0.029</td>\n",
       "      <td>0.01</td>\n",
       "      <td>219</td>\n",
       "    </tr>\n",
       "    <tr>\n",
       "      <th>13</th>\n",
       "      <td>ECA Areas</td>\n",
       "      <td>3</td>\n",
       "      <td>0.10%</td>\n",
       "      <td>&lt; 800 kW</td>\n",
       "      <td>1</td>\n",
       "      <td>2000-2010</td>\n",
       "      <td>12.2</td>\n",
       "      <td>0.18</td>\n",
       "      <td>0.17</td>\n",
       "      <td>0.421</td>\n",
       "      <td>0.43</td>\n",
       "      <td>0.029</td>\n",
       "      <td>0.01</td>\n",
       "      <td>219</td>\n",
       "    </tr>\n",
       "    <tr>\n",
       "      <th>14</th>\n",
       "      <td>ECA Areas</td>\n",
       "      <td>3</td>\n",
       "      <td>0.10%</td>\n",
       "      <td>&lt; 800 kW</td>\n",
       "      <td>2</td>\n",
       "      <td>2011-2015</td>\n",
       "      <td>10.5</td>\n",
       "      <td>0.18</td>\n",
       "      <td>0.17</td>\n",
       "      <td>0.421</td>\n",
       "      <td>0.43</td>\n",
       "      <td>0.029</td>\n",
       "      <td>0.01</td>\n",
       "      <td>219</td>\n",
       "    </tr>\n",
       "    <tr>\n",
       "      <th>15</th>\n",
       "      <td>ECA Areas</td>\n",
       "      <td>3</td>\n",
       "      <td>0.10%</td>\n",
       "      <td>&lt; 800 kW</td>\n",
       "      <td>3</td>\n",
       "      <td>post 2015</td>\n",
       "      <td>2.6</td>\n",
       "      <td>0.18</td>\n",
       "      <td>0.17</td>\n",
       "      <td>0.421</td>\n",
       "      <td>0.43</td>\n",
       "      <td>0.029</td>\n",
       "      <td>0.01</td>\n",
       "      <td>219</td>\n",
       "    </tr>\n",
       "    <tr>\n",
       "      <th>16</th>\n",
       "      <td>ECA Areas</td>\n",
       "      <td>3</td>\n",
       "      <td>0.10%</td>\n",
       "      <td>&gt;800 kW</td>\n",
       "      <td>0</td>\n",
       "      <td>Pre-2000</td>\n",
       "      <td>13.8</td>\n",
       "      <td>0.18</td>\n",
       "      <td>0.17</td>\n",
       "      <td>0.421</td>\n",
       "      <td>0.45</td>\n",
       "      <td>0.029</td>\n",
       "      <td>0.01</td>\n",
       "      <td>228</td>\n",
       "    </tr>\n",
       "    <tr>\n",
       "      <th>17</th>\n",
       "      <td>ECA Areas</td>\n",
       "      <td>3</td>\n",
       "      <td>0.10%</td>\n",
       "      <td>&gt;800 kW</td>\n",
       "      <td>1</td>\n",
       "      <td>2000-2010</td>\n",
       "      <td>12.2</td>\n",
       "      <td>0.18</td>\n",
       "      <td>0.17</td>\n",
       "      <td>0.421</td>\n",
       "      <td>0.45</td>\n",
       "      <td>0.029</td>\n",
       "      <td>0.01</td>\n",
       "      <td>228</td>\n",
       "    </tr>\n",
       "    <tr>\n",
       "      <th>18</th>\n",
       "      <td>ECA Areas</td>\n",
       "      <td>3</td>\n",
       "      <td>0.10%</td>\n",
       "      <td>&gt;800 kW</td>\n",
       "      <td>2</td>\n",
       "      <td>2011-2015</td>\n",
       "      <td>10.5</td>\n",
       "      <td>0.18</td>\n",
       "      <td>0.17</td>\n",
       "      <td>0.421</td>\n",
       "      <td>0.45</td>\n",
       "      <td>0.029</td>\n",
       "      <td>0.01</td>\n",
       "      <td>228</td>\n",
       "    </tr>\n",
       "    <tr>\n",
       "      <th>19</th>\n",
       "      <td>ECA Areas</td>\n",
       "      <td>3</td>\n",
       "      <td>0.10%</td>\n",
       "      <td>&gt;800 kW</td>\n",
       "      <td>3</td>\n",
       "      <td>post 2015</td>\n",
       "      <td>2.6</td>\n",
       "      <td>0.18</td>\n",
       "      <td>0.17</td>\n",
       "      <td>0.421</td>\n",
       "      <td>0.45</td>\n",
       "      <td>0.029</td>\n",
       "      <td>0.01</td>\n",
       "      <td>228</td>\n",
       "    </tr>\n",
       "  </tbody>\n",
       "</table>\n",
       "</div>"
      ],
      "text/plain": [
       "           fuel  fuel_category sulfur engine_size  emission_tier model_years  \\\n",
       "0           HFO              1  2.70%    < 800 kW              0    Pre-2000   \n",
       "1           HFO              1  2.70%    < 800 kW              1   2000-2010   \n",
       "2           HFO              1  2.70%    < 800 kW              2   post 2010   \n",
       "3           HFO              1  2.70%    > 800 kW              0    Pre-2000   \n",
       "4           HFO              1  2.70%    > 800 kW              1   2000-2010   \n",
       "5           HFO              1  2.70%    > 800 kW              2   post 2010   \n",
       "6   Global 2020              2  0.50%    < 800 kW              0    Pre-2000   \n",
       "7   Global 2020              2  0.50%    < 800 kW              1   2000-2010   \n",
       "8   Global 2020              2  0.50%    < 800 kW              2   post 2010   \n",
       "9   Global 2020              2  0.50%    > 800 kW              0    Pre-2000   \n",
       "10  Global 2020              2  0.50%    > 800 kW              1   2000-2010   \n",
       "11  Global 2020              2  0.50%    > 800 kW              2   post 2010   \n",
       "12    ECA Areas              3  0.10%    < 800 kW              0    Pre-2000   \n",
       "13    ECA Areas              3  0.10%    < 800 kW              1   2000-2010   \n",
       "14    ECA Areas              3  0.10%    < 800 kW              2   2011-2015   \n",
       "15    ECA Areas              3  0.10%    < 800 kW              3   post 2015   \n",
       "16    ECA Areas              3  0.10%     >800 kW              0    Pre-2000   \n",
       "17    ECA Areas              3  0.10%     >800 kW              1   2000-2010   \n",
       "18    ECA Areas              3  0.10%     >800 kW              2   2011-2015   \n",
       "19    ECA Areas              3  0.10%     >800 kW              3   post 2015   \n",
       "\n",
       "     nox  pm10  pm2_5    voc   s_ox   n2_o   ch4  bsfc  \n",
       "0   14.7  1.44   1.32  0.421  12.14  0.040  0.01   230  \n",
       "1   13.0  1.44   1.32  0.421  12.14  0.040  0.01   230  \n",
       "2   11.2  1.44   1.32  0.421  12.14  0.040  0.01   230  \n",
       "3   14.7  1.44   1.33  0.421  12.67  0.040  0.01   240  \n",
       "4   13.0  1.44   1.33  0.421  12.67  0.040  0.01   240  \n",
       "5   11.2  1.44   1.33  0.421  12.67  0.040  0.01   240  \n",
       "6   13.8  0.32   0.29  0.421   2.14  0.036  0.01   219  \n",
       "7   12.2  0.32   0.29  0.421   2.14  0.036  0.01   219  \n",
       "8   10.5  0.32   0.29  0.421   2.14  0.036  0.01   219  \n",
       "9   13.8  0.32   0.30  0.421   2.23  0.036  0.01   228  \n",
       "10  12.2  0.32   0.30  0.421   2.23  0.036  0.01   228  \n",
       "11  10.5  0.32   0.30  0.421   2.23  0.036  0.01   228  \n",
       "12  13.8  0.18   0.17  0.421   0.43  0.029  0.01   219  \n",
       "13  12.2  0.18   0.17  0.421   0.43  0.029  0.01   219  \n",
       "14  10.5  0.18   0.17  0.421   0.43  0.029  0.01   219  \n",
       "15   2.6  0.18   0.17  0.421   0.43  0.029  0.01   219  \n",
       "16  13.8  0.18   0.17  0.421   0.45  0.029  0.01   228  \n",
       "17  12.2  0.18   0.17  0.421   0.45  0.029  0.01   228  \n",
       "18  10.5  0.18   0.17  0.421   0.45  0.029  0.01   228  \n",
       "19   2.6  0.18   0.17  0.421   0.45  0.029  0.01   228  "
      ]
     },
     "execution_count": 69,
     "metadata": {},
     "output_type": "execute_result"
    }
   ],
   "source": [
    "aeef"
   ]
  },
  {
   "cell_type": "code",
   "execution_count": 50,
   "id": "81aa880f-d3db-415c-85b3-77e4609b46ef",
   "metadata": {
    "execution": {
     "iopub.execute_input": "2024-01-26T23:10:15.357822Z",
     "iopub.status.busy": "2024-01-26T23:10:15.356865Z",
     "iopub.status.idle": "2024-01-26T23:10:15.367814Z",
     "shell.execute_reply": "2024-01-26T23:10:15.366710Z",
     "shell.execute_reply.started": "2024-01-26T23:10:15.357781Z"
    },
    "tags": []
   },
   "outputs": [],
   "source": [
    "aeef = aeef[aeef.fuel == \"Global 2020\"]"
   ]
  },
  {
   "cell_type": "markdown",
   "id": "57128e0b-c62c-47da-9b25-5a1bff490119",
   "metadata": {},
   "source": [
    "#### boiler"
   ]
  },
  {
   "cell_type": "code",
   "execution_count": 51,
   "id": "4554fcdf-7e84-4632-b796-fc72abb409ed",
   "metadata": {
    "execution": {
     "iopub.execute_input": "2024-01-26T23:10:21.773446Z",
     "iopub.status.busy": "2024-01-26T23:10:21.772462Z",
     "iopub.status.idle": "2024-01-26T23:10:21.789159Z",
     "shell.execute_reply": "2024-01-26T23:10:21.788454Z",
     "shell.execute_reply.started": "2024-01-26T23:10:21.773401Z"
    },
    "tags": []
   },
   "outputs": [],
   "source": [
    "path = \"/Users/luozeming/Desktop/1Hackathon/Category A (University Level) - NUS-RightShip Hackathon 2024/supplementary_tables/boiler_engine_emission_factors.csv\"\n",
    "boiler = pd.read_csv(path)"
   ]
  },
  {
   "cell_type": "code",
   "execution_count": 147,
   "id": "4b126d04-9f51-43ae-b530-c65afc961b16",
   "metadata": {
    "execution": {
     "iopub.execute_input": "2024-01-26T19:30:21.879122Z",
     "iopub.status.busy": "2024-01-26T19:30:21.878196Z",
     "iopub.status.idle": "2024-01-26T19:30:21.896681Z",
     "shell.execute_reply": "2024-01-26T19:30:21.896251Z",
     "shell.execute_reply.started": "2024-01-26T19:30:21.879079Z"
    },
    "tags": []
   },
   "outputs": [
    {
     "data": {
      "text/html": [
       "<div>\n",
       "<style scoped>\n",
       "    .dataframe tbody tr th:only-of-type {\n",
       "        vertical-align: middle;\n",
       "    }\n",
       "\n",
       "    .dataframe tbody tr th {\n",
       "        vertical-align: top;\n",
       "    }\n",
       "\n",
       "    .dataframe thead th {\n",
       "        text-align: right;\n",
       "    }\n",
       "</style>\n",
       "<table border=\"1\" class=\"dataframe\">\n",
       "  <thead>\n",
       "    <tr style=\"text-align: right;\">\n",
       "      <th></th>\n",
       "      <th>fuel</th>\n",
       "      <th>fuel_category</th>\n",
       "      <th>sulfur</th>\n",
       "      <th>n_ox</th>\n",
       "      <th>pm10</th>\n",
       "      <th>pm2_5</th>\n",
       "      <th>voc</th>\n",
       "      <th>sox</th>\n",
       "      <th>n2_O</th>\n",
       "      <th>ch4</th>\n",
       "      <th>bsfc</th>\n",
       "    </tr>\n",
       "  </thead>\n",
       "  <tbody>\n",
       "    <tr>\n",
       "      <th>0</th>\n",
       "      <td>HFO</td>\n",
       "      <td>1</td>\n",
       "      <td>2.70%</td>\n",
       "      <td>2.1</td>\n",
       "      <td>1.460000</td>\n",
       "      <td>1.35</td>\n",
       "      <td>0.1053</td>\n",
       "      <td>15.84</td>\n",
       "      <td>0.040</td>\n",
       "      <td>0.002</td>\n",
       "      <td>300</td>\n",
       "    </tr>\n",
       "    <tr>\n",
       "      <th>1</th>\n",
       "      <td>Global 2020</td>\n",
       "      <td>2</td>\n",
       "      <td>0.50%</td>\n",
       "      <td>2.0</td>\n",
       "      <td>0.352686</td>\n",
       "      <td>0.32</td>\n",
       "      <td>0.1053</td>\n",
       "      <td>2.83</td>\n",
       "      <td>0.049</td>\n",
       "      <td>0.002</td>\n",
       "      <td>290</td>\n",
       "    </tr>\n",
       "    <tr>\n",
       "      <th>2</th>\n",
       "      <td>ECA</td>\n",
       "      <td>3</td>\n",
       "      <td>0.10%</td>\n",
       "      <td>2.0</td>\n",
       "      <td>0.270000</td>\n",
       "      <td>0.25</td>\n",
       "      <td>0.1053</td>\n",
       "      <td>0.57</td>\n",
       "      <td>0.075</td>\n",
       "      <td>0.002</td>\n",
       "      <td>290</td>\n",
       "    </tr>\n",
       "  </tbody>\n",
       "</table>\n",
       "</div>"
      ],
      "text/plain": [
       "          fuel  fuel_category sulfur  n_ox      pm10  pm2_5     voc    sox  \\\n",
       "0          HFO              1  2.70%   2.1  1.460000   1.35  0.1053  15.84   \n",
       "1  Global 2020              2  0.50%   2.0  0.352686   0.32  0.1053   2.83   \n",
       "2          ECA              3  0.10%   2.0  0.270000   0.25  0.1053   0.57   \n",
       "\n",
       "    n2_O    ch4  bsfc  \n",
       "0  0.040  0.002   300  \n",
       "1  0.049  0.002   290  \n",
       "2  0.075  0.002   290  "
      ]
     },
     "execution_count": 147,
     "metadata": {},
     "output_type": "execute_result"
    }
   ],
   "source": [
    "boiler"
   ]
  },
  {
   "cell_type": "code",
   "execution_count": 52,
   "id": "0b7d4159-84cd-4a9a-9748-13818b8ca3c8",
   "metadata": {
    "execution": {
     "iopub.execute_input": "2024-01-26T23:10:24.494164Z",
     "iopub.status.busy": "2024-01-26T23:10:24.492812Z",
     "iopub.status.idle": "2024-01-26T23:10:24.504050Z",
     "shell.execute_reply": "2024-01-26T23:10:24.502893Z",
     "shell.execute_reply.started": "2024-01-26T23:10:24.494118Z"
    },
    "tags": []
   },
   "outputs": [],
   "source": [
    "boiler = boiler[boiler.fuel=='Global 2020']"
   ]
  },
  {
   "cell_type": "markdown",
   "id": "64ac4549-e8b8-4868-8729-ffeac90ef54d",
   "metadata": {},
   "source": [
    "### 1. NOx\n",
    "- Refer to tables Propulsion Engine Emission Factors and Auxiliary Engine Emission Factors for main engine and auxiliary engine. \n",
    "- The values used are dependent on Engine Type and Emissions Tier in vessel movements table.\n",
    "\n",
    "Do the same for Auxiliary Boiler (Boiler Engine Emission Factors table)."
   ]
  },
  {
   "cell_type": "code",
   "execution_count": 188,
   "id": "41bf1728-3213-44b0-beab-796696a39191",
   "metadata": {
    "execution": {
     "iopub.execute_input": "2024-01-27T05:19:17.272577Z",
     "iopub.status.busy": "2024-01-27T05:19:17.270335Z",
     "iopub.status.idle": "2024-01-27T05:19:17.887857Z",
     "shell.execute_reply": "2024-01-27T05:19:17.887462Z",
     "shell.execute_reply.started": "2024-01-27T05:19:17.272499Z"
    },
    "tags": []
   },
   "outputs": [],
   "source": [
    "# gdf_peef = pd.merge(gdf_peef,peef[['emission_tier','engine_type','nox']],how='left',left_on=['Tier','engine_type'],\n",
    "#                     right_on=['emission_tier','engine_type'])\n",
    "df_peef = pd.merge(df_peef,peef.iloc[:,3:],how='left',left_on=['Tier','engine_type'],\n",
    "                    right_on=['emission_tier','engine_type'])\n",
    "\n",
    "# gdf_peef.info()"
   ]
  },
  {
   "cell_type": "code",
   "execution_count": 189,
   "id": "fa55b4e9-a9e1-4628-8a50-61fac7e26050",
   "metadata": {
    "execution": {
     "iopub.execute_input": "2024-01-27T05:19:17.926662Z",
     "iopub.status.busy": "2024-01-27T05:19:17.926056Z",
     "iopub.status.idle": "2024-01-27T05:19:18.814274Z",
     "shell.execute_reply": "2024-01-27T05:19:18.813824Z",
     "shell.execute_reply.started": "2024-01-27T05:19:17.926642Z"
    },
    "tags": []
   },
   "outputs": [],
   "source": [
    "#gdf_aeef = pd.merge(gdf_aeef,aeef[['emission_tier','engine_size','nox']],how='left',left_on=['Tier','ael_bin'], right_on=['emission_tier','engine_size'])\n",
    "df_aeef = pd.merge(df_aeef,aeef.iloc[:,3:],\n",
    "                    how='left',left_on=['Tier','ael_bin'], right_on=['emission_tier','engine_size'])\n",
    "# gdf_aeef.info()"
   ]
  },
  {
   "cell_type": "markdown",
   "id": "682ee6cb-a0b9-47b4-8512-50a52ea61fd7",
   "metadata": {},
   "source": [
    "### PM10 \n",
    "will be calculated as follows:\n",
    "\n",
    "Main Engine and Auxiliary Engine = 0.23 + (sfc_me or sfc_ae ) x 7 x 0.02247 x (0.005-0.0024)\n",
    "\n",
    "Boiler = direct look up to Boiler Engine Emission Factors table"
   ]
  },
  {
   "cell_type": "code",
   "execution_count": 190,
   "id": "fc8e0048-08d7-4dda-9936-3022c7f96a71",
   "metadata": {
    "execution": {
     "iopub.execute_input": "2024-01-27T05:19:22.029332Z",
     "iopub.status.busy": "2024-01-27T05:19:22.028071Z",
     "iopub.status.idle": "2024-01-27T05:19:22.085670Z",
     "shell.execute_reply": "2024-01-27T05:19:22.084674Z",
     "shell.execute_reply.started": "2024-01-27T05:19:22.029275Z"
    },
    "tags": []
   },
   "outputs": [],
   "source": [
    "for col in boiler.columns[2:]:\n",
    "    df_boiler[col] = boiler[col].iloc[0]"
   ]
  },
  {
   "cell_type": "code",
   "execution_count": 59,
   "id": "6cbd4c5a-ccc3-4ef3-bac5-f3cb73ec6872",
   "metadata": {
    "execution": {
     "iopub.execute_input": "2024-01-26T23:11:01.931263Z",
     "iopub.status.busy": "2024-01-26T23:11:01.930604Z",
     "iopub.status.idle": "2024-01-26T23:11:01.950273Z",
     "shell.execute_reply": "2024-01-26T23:11:01.946772Z",
     "shell.execute_reply.started": "2024-01-26T23:11:01.931222Z"
    },
    "tags": []
   },
   "outputs": [
    {
     "name": "stdout",
     "output_type": "stream",
     "text": [
      "<class 'pandas.core.frame.DataFrame'>\n",
      "Int64Index: 2033372 entries, 0 to 2822598\n",
      "Data columns (total 21 columns):\n",
      " #   Column          Dtype  \n",
      "---  ------          -----  \n",
      " 0   imo             int64  \n",
      " 1   timestamp       object \n",
      " 2   time_diff       float64\n",
      " 3   valid_duration  float64\n",
      " 4   p               float64\n",
      " 5   vref            float64\n",
      " 6   sfc_ab          float64\n",
      " 7   abl             float64\n",
      " 8   MS              float64\n",
      " 9   LF              float64\n",
      " 10  Tier            float64\n",
      " 11  valid_mode      int64  \n",
      " 12  sulfur          object \n",
      " 13  n_ox            float64\n",
      " 14  pm10            float64\n",
      " 15  pm2_5           float64\n",
      " 16  voc             float64\n",
      " 17  sox             float64\n",
      " 18  n2_O            float64\n",
      " 19  ch4             float64\n",
      " 20  bsfc            int64  \n",
      "dtypes: float64(16), int64(3), object(2)\n",
      "memory usage: 341.3+ MB\n"
     ]
    }
   ],
   "source": [
    "# gdf_boiler = pd.merge(gdf_boiler,boiler,)\n",
    "df_boiler.info()"
   ]
  },
  {
   "cell_type": "code",
   "execution_count": 191,
   "id": "f8d5e316-5c14-4d97-b78d-9d6ffa6f8aa6",
   "metadata": {
    "execution": {
     "iopub.execute_input": "2024-01-27T05:19:31.561913Z",
     "iopub.status.busy": "2024-01-27T05:19:31.561297Z",
     "iopub.status.idle": "2024-01-27T05:19:31.650413Z",
     "shell.execute_reply": "2024-01-27T05:19:31.649950Z",
     "shell.execute_reply.started": "2024-01-27T05:19:31.561874Z"
    },
    "tags": []
   },
   "outputs": [],
   "source": [
    "df_peef['pm10'] = 0.23 + df_peef.sfc_me * 7 * 0.02247 * (0.005-0.0024)\n",
    "df_aeef['pm10'] = 0.23 + df_aeef.sfc_ae * 7 * 0.02247 * (0.005-0.0024)\n",
    "df_boiler['pm10'] = 0.352686"
   ]
  },
  {
   "cell_type": "markdown",
   "id": "81303387-02d6-4190-93b5-af2b6e9cfe1b",
   "metadata": {},
   "source": [
    "### pm2.5\n",
    "PM2.5 = 0.92 x PM10"
   ]
  },
  {
   "cell_type": "code",
   "execution_count": 192,
   "id": "324f1792-9862-462c-ac93-65fad22c4ff2",
   "metadata": {
    "execution": {
     "iopub.execute_input": "2024-01-27T05:20:03.324103Z",
     "iopub.status.busy": "2024-01-27T05:20:03.321778Z",
     "iopub.status.idle": "2024-01-27T05:20:03.360206Z",
     "shell.execute_reply": "2024-01-27T05:20:03.359718Z",
     "shell.execute_reply.started": "2024-01-27T05:20:03.324042Z"
    },
    "tags": []
   },
   "outputs": [],
   "source": [
    "df_peef['pm2.5'] = 0.92*df_peef['pm10']\n",
    "df_aeef['pm2.5'] = 0.92*df_aeef['pm10']\n",
    "df_boiler['pm2.5'] = 0.92*df_boiler['pm10']"
   ]
  },
  {
   "cell_type": "markdown",
   "id": "f8687748-6e49-483b-9c53-67175fcb76cb",
   "metadata": {},
   "source": [
    "### VOC \n",
    "= direct look up EngineType column in vessel movements table."
   ]
  },
  {
   "cell_type": "markdown",
   "id": "fca1cd9d-237b-49c3-91f2-ef427110ba87",
   "metadata": {},
   "source": [
    "### SOx – Refer to vessel movements table.\n",
    "\n",
    "- For Main Engine= sfc_me x 2 x 0.97753 x 0.005\n",
    "- For Auxiliary engine= sfc_ae x 2 x 0.97753 x 0.005\n",
    "- For Auxiliary Boiler= sfc_ab x 2 x 0.97753 x 0.005"
   ]
  },
  {
   "cell_type": "code",
   "execution_count": 193,
   "id": "12be4a4a-536f-4737-ae68-907ce0dec7a3",
   "metadata": {
    "execution": {
     "iopub.execute_input": "2024-01-27T05:20:23.756157Z",
     "iopub.status.busy": "2024-01-27T05:20:23.755137Z",
     "iopub.status.idle": "2024-01-27T05:20:23.808115Z",
     "shell.execute_reply": "2024-01-27T05:20:23.807699Z",
     "shell.execute_reply.started": "2024-01-27T05:20:23.756097Z"
    },
    "tags": []
   },
   "outputs": [],
   "source": [
    "df_peef['sox'] = df_peef.sfc_me*2*0.97753*0.005\n",
    "df_aeef['sox'] = df_aeef.sfc_ae*2*0.97753*0.005\n",
    "df_boiler['sox'] = df_boiler.sfc_ab*2*0.97753*0.005"
   ]
  },
  {
   "cell_type": "markdown",
   "id": "028e41d2-77d5-41da-82e8-0fd698ebc8fa",
   "metadata": {},
   "source": [
    "### CO2 - Refer to vessel movements table\n",
    "- For Main Engine= sfc_me x 0.867 x 3.667\n",
    "- For Auxiliary engine= sfc_ae x 0.867 x 3.667\n",
    "- For Auxiliary Boiler= sfc_ab x 0.867 x 3.667"
   ]
  },
  {
   "cell_type": "code",
   "execution_count": 194,
   "id": "59b95252-5565-49a5-8364-39a89d3f6599",
   "metadata": {
    "execution": {
     "iopub.execute_input": "2024-01-27T05:20:46.307252Z",
     "iopub.status.busy": "2024-01-27T05:20:46.305807Z",
     "iopub.status.idle": "2024-01-27T05:20:46.350288Z",
     "shell.execute_reply": "2024-01-27T05:20:46.349461Z",
     "shell.execute_reply.started": "2024-01-27T05:20:46.307202Z"
    },
    "tags": []
   },
   "outputs": [],
   "source": [
    "df_peef['co2'] = df_peef.sfc_me * 0.867 * 3.667\n",
    "df_aeef['co2'] = df_aeef.sfc_ae * 0.867 * 3.667\n",
    "df_boiler['co2'] = df_boiler.sfc_ab * 0.867 * 3.667"
   ]
  },
  {
   "cell_type": "markdown",
   "id": "8d47eb6e-a396-4089-ad5a-73c37c3a68ca",
   "metadata": {},
   "source": [
    "### CH4 - Refer to vessel movements table\n",
    "- For Main Engine and Auxiliary Boiler = corresponding direct look up Propulsion Engine Emission Factors and Auxiliary Engine Emission Factors with reference to Columns EngineType and EmissionsTier\n",
    "- For Aux engine = Dependent on Auxiliary engine load (Column ael) and EmissionsTier, direct look-up"
   ]
  },
  {
   "cell_type": "markdown",
   "id": "82a0c274-0be9-41ec-8eff-237b5faca711",
   "metadata": {},
   "source": [
    "### N2O – \n",
    "EngineType and EmissionsTier, dependent look up"
   ]
  },
  {
   "cell_type": "markdown",
   "id": "8f6da71a-f601-49f2-a69e-d2f6078550da",
   "metadata": {
    "tags": []
   },
   "source": [
    "## Step 7g: calculate Emissions\n",
    "- Based on above identifications, the formulae below will be used to get the final results.\n",
    "- The emission factor is in terms of emissions per unit of energy from the engine. It is multiplied by the energy consumed while in each mode."
   ]
  },
  {
   "cell_type": "markdown",
   "id": "8059aff3-3428-4da5-9caf-426067453b2b",
   "metadata": {
    "tags": []
   },
   "source": [
    "### Propulsion engine\n",
    "Propulsion engine emissions for each mode are calculated according to the general equation:"
   ]
  },
  {
   "cell_type": "raw",
   "id": "1f1853eb-e66e-4c75-adce-f75a8d7a6347",
   "metadata": {},
   "source": [
    "Propulsion engine emissions for each mode are calculated according to the general equation:\n",
    "\n",
    "\n",
    "E = P x LF x A x EF x LLAF\n",
    "\n",
    "Where\n",
    "E = Emissions (grams [g])\n",
    "P = Maximum Continuous Rating (MCR) Power for propulsion engines (kilowatts [kW])\n",
    "LF = Load Factor (percent of vessel's total power)\n",
    "A = Activity (hours [h]) (hours/call)\n",
    "EF = Emission Factor (grams per kilowatt-hour [g/kWh])\n",
    "LLAF = Low Load Adjustment Factor for when the load factor is below 20%.\n",
    "\n"
   ]
  },
  {
   "cell_type": "code",
   "execution_count": 131,
   "id": "abc02e53-9b9f-4106-8e24-09a258a689a5",
   "metadata": {
    "execution": {
     "iopub.execute_input": "2024-01-27T03:56:51.862158Z",
     "iopub.status.busy": "2024-01-27T03:56:51.861021Z",
     "iopub.status.idle": "2024-01-27T03:56:51.875064Z",
     "shell.execute_reply": "2024-01-27T03:56:51.874394Z",
     "shell.execute_reply.started": "2024-01-27T03:56:51.862109Z"
    },
    "tags": []
   },
   "outputs": [
    {
     "data": {
      "text/plain": [
       "Index(['imo', 'timestamp', 'time_diff', 'valid_duration', 'engine_type', 'p',\n",
       "       'vref', 'sfc_me', 'MS', 'LF', 'Tier', 'valid_mode', 'emission_tier',\n",
       "       'model_years', 'nox', 'pm10', 'pm2_5', 'voc', 'sox', 'n2_O', 'ch4',\n",
       "       'bsfc', 'pm2.5', 'co2', 'Emission_co2', 'Emission_ch4', 'Emission_nox',\n",
       "       'Emission_n2_O'],\n",
       "      dtype='object')"
      ]
     },
     "execution_count": 131,
     "metadata": {},
     "output_type": "execute_result"
    }
   ],
   "source": [
    "df_peef.columns"
   ]
  },
  {
   "cell_type": "code",
   "execution_count": 112,
   "id": "75fbafd5-0e24-4ac3-b904-14756213f482",
   "metadata": {
    "execution": {
     "iopub.execute_input": "2024-01-27T03:43:44.611719Z",
     "iopub.status.busy": "2024-01-27T03:43:44.611078Z",
     "iopub.status.idle": "2024-01-27T03:43:44.618832Z",
     "shell.execute_reply": "2024-01-27T03:43:44.618206Z",
     "shell.execute_reply.started": "2024-01-27T03:43:44.611656Z"
    },
    "tags": []
   },
   "outputs": [
    {
     "data": {
      "text/plain": [
       "dict_keys(['NOx', 'HC', 'CO', 'PM', 'SO2', 'CO2', 'N2O', 'CH4'])"
      ]
     },
     "execution_count": 112,
     "metadata": {},
     "output_type": "execute_result"
    }
   ],
   "source": [
    "llaf_fit_dict.keys()"
   ]
  },
  {
   "cell_type": "code",
   "execution_count": null,
   "id": "45c85b93-5878-4bb2-b93c-cb8bfb4cfdd8",
   "metadata": {},
   "outputs": [],
   "source": [
    "[\"nox\",\"co2\",\"n2_O\",\"ch4\"]"
   ]
  },
  {
   "cell_type": "code",
   "execution_count": 195,
   "id": "c55c9cfd-7930-4d47-a3c6-70cd432f4493",
   "metadata": {
    "execution": {
     "iopub.execute_input": "2024-01-27T05:21:06.963861Z",
     "iopub.status.busy": "2024-01-27T05:21:06.962751Z",
     "iopub.status.idle": "2024-01-27T05:21:07.527658Z",
     "shell.execute_reply": "2024-01-27T05:21:07.527298Z",
     "shell.execute_reply.started": "2024-01-27T05:21:06.963810Z"
    },
    "tags": []
   },
   "outputs": [
    {
     "name": "stdout",
     "output_type": "stream",
     "text": [
      "nox\n",
      "co2\n",
      "n2_O\n",
      "ch4\n"
     ]
    }
   ],
   "source": [
    "GHGs = ['NOx', 'CO2', 'N2O', 'CH4']\n",
    "\n",
    "for GHG in GHGs:\n",
    "    llaf_peef = llaf_func(key=GHG,x=df_peef.LF)\n",
    "    GHG = GHG.lower() if GHG!='N2O' else 'n2_O'\n",
    "    print(GHG)\n",
    "    df_peef['Emission_'+GHG] = df_peef.p * df_peef.LF * df_peef.valid_duration * df_peef[GHG] * llaf_peef"
   ]
  },
  {
   "cell_type": "markdown",
   "id": "ecb128ee-0903-474d-8187-4666c2d9c14c",
   "metadata": {
    "execution": {
     "iopub.execute_input": "2024-01-26T20:56:35.424275Z",
     "iopub.status.busy": "2024-01-26T20:56:35.422849Z",
     "iopub.status.idle": "2024-01-26T20:56:35.441043Z",
     "shell.execute_reply": "2024-01-26T20:56:35.440383Z",
     "shell.execute_reply.started": "2024-01-26T20:56:35.424196Z"
    },
    "tags": []
   },
   "source": [
    "### Auxiliary engine\n",
    "Auxiliary engine emissions are calculated according to the general equation:\n",
    "\n",
    "\n",
    "E = LA X A x EF\n",
    "\n",
    "Where\n",
    "\n",
    "- E = Emissions (grams [g])\n",
    "-   = Auxiliary engine load (kW)\n",
    "- A = Activity (hours [h]) (hours/call)\n",
    "- EF = Emission Factor (grams per kilowatt-hour [g/kWh])"
   ]
  },
  {
   "cell_type": "code",
   "execution_count": 135,
   "id": "08eafe47-edf6-49c5-9348-907fdb66e886",
   "metadata": {
    "execution": {
     "iopub.execute_input": "2024-01-27T04:00:20.516723Z",
     "iopub.status.busy": "2024-01-27T04:00:20.515546Z",
     "iopub.status.idle": "2024-01-27T04:00:20.529527Z",
     "shell.execute_reply": "2024-01-27T04:00:20.528931Z",
     "shell.execute_reply.started": "2024-01-27T04:00:20.516667Z"
    },
    "tags": []
   },
   "outputs": [
    {
     "data": {
      "text/plain": [
       "Index(['imo', 'timestamp', 'time_diff', 'valid_duration', 'p', 'vref',\n",
       "       'sfc_ae', 'ael', 'MS', 'LF', 'Tier', 'valid_mode', 'ael_bin',\n",
       "       'engine_size', 'emission_tier', 'model_years', 'nox', 'pm10', 'pm2_5',\n",
       "       'voc', 's_ox', 'n2_o', 'ch4', 'bsfc', 'pm2.5', 'sox', 'co2',\n",
       "       'Emission_co2', 'Emission_nox', 'Emission_voc', 'Emission_n2_o',\n",
       "       'Emission_ch4', 'date', 'month'],\n",
       "      dtype='object')"
      ]
     },
     "execution_count": 135,
     "metadata": {},
     "output_type": "execute_result"
    }
   ],
   "source": [
    "df_aeef.columns"
   ]
  },
  {
   "cell_type": "code",
   "execution_count": 196,
   "id": "61050e92-d5cb-4dbd-ac0e-04e1f1047b20",
   "metadata": {
    "execution": {
     "iopub.execute_input": "2024-01-27T05:21:15.750644Z",
     "iopub.status.busy": "2024-01-27T05:21:15.748420Z",
     "iopub.status.idle": "2024-01-27T05:21:15.841983Z",
     "shell.execute_reply": "2024-01-27T05:21:15.841493Z",
     "shell.execute_reply.started": "2024-01-27T05:21:15.750541Z"
    },
    "tags": []
   },
   "outputs": [],
   "source": [
    "GHGs = ['nox', 'voc', 'n2_o', 'ch4','co2']\n",
    "for GHG in GHGs:\n",
    "    df_aeef['Emission_'+GHG] = df_aeef.ael* df_aeef.valid_duration * df_aeef[GHG]\n",
    "\n",
    "# df_aeef['Emission_co2'] = df_aeef.ael* df_aeef.valid_duration * df_aeef.co2"
   ]
  },
  {
   "cell_type": "markdown",
   "id": "f701c687-6b2f-4455-b229-988040af5ea9",
   "metadata": {},
   "source": [
    "### Auxiliary boiler\n",
    "Auxiliary boiler emissions are calculated using the general equation below:\n",
    "\n",
    "\n",
    "E = LB X A x EF\n",
    "\n",
    "Where\n",
    "E = Emissions (grams [g])\n",
    "  = Boiler Load (kW),\n",
    "A = Activity (hours [h]) (hours/call)\n",
    "EF = Emission Factor (grams per kilowatt-hour [g/kWh])"
   ]
  },
  {
   "cell_type": "code",
   "execution_count": 141,
   "id": "5cc5348f-7f07-4962-855b-93a63fe7e6c4",
   "metadata": {
    "execution": {
     "iopub.execute_input": "2024-01-27T04:02:54.755584Z",
     "iopub.status.busy": "2024-01-27T04:02:54.754655Z",
     "iopub.status.idle": "2024-01-27T04:02:54.767922Z",
     "shell.execute_reply": "2024-01-27T04:02:54.767401Z",
     "shell.execute_reply.started": "2024-01-27T04:02:54.755541Z"
    },
    "tags": []
   },
   "outputs": [
    {
     "data": {
      "text/plain": [
       "Index(['imo', 'timestamp', 'time_diff', 'valid_duration', 'p', 'vref',\n",
       "       'sfc_ab', 'abl', 'MS', 'LF', 'Tier', 'valid_mode', 'sulfur', 'n_ox',\n",
       "       'pm10', 'pm2_5', 'voc', 'sox', 'n2_O', 'ch4', 'bsfc', 'pm2.5', 'co2',\n",
       "       'Emission_co2', 'Emission_n_ox', 'Emission_voc', 'Emission_n2_O',\n",
       "       'Emission_ch4'],\n",
       "      dtype='object')"
      ]
     },
     "execution_count": 141,
     "metadata": {},
     "output_type": "execute_result"
    }
   ],
   "source": [
    "df_boiler.columns"
   ]
  },
  {
   "cell_type": "code",
   "execution_count": 197,
   "id": "8ba2c0a1-9dfa-4abd-a253-ab3620c88a80",
   "metadata": {
    "execution": {
     "iopub.execute_input": "2024-01-27T05:21:19.121581Z",
     "iopub.status.busy": "2024-01-27T05:21:19.120866Z",
     "iopub.status.idle": "2024-01-27T05:21:19.210752Z",
     "shell.execute_reply": "2024-01-27T05:21:19.210123Z",
     "shell.execute_reply.started": "2024-01-27T05:21:19.121538Z"
    },
    "tags": []
   },
   "outputs": [],
   "source": [
    "GHGs = ['n_ox', 'voc', 'n2_O', 'ch4','co2']\n",
    "for GHG in GHGs:\n",
    "    df_boiler['Emission_'+GHG] = df_boiler.abl* df_boiler.valid_duration * df_boiler[GHG]\n",
    "\n",
    "# df_boiler['Emission_co2'] = df_boiler.abl* df_boiler.valid_duration * df_boiler.co2"
   ]
  },
  {
   "cell_type": "markdown",
   "id": "d8c23c2c-dd6c-420b-954d-803a3cd9c992",
   "metadata": {
    "execution": {
     "iopub.execute_input": "2024-01-26T21:13:24.155405Z",
     "iopub.status.busy": "2024-01-26T21:13:24.154749Z",
     "iopub.status.idle": "2024-01-26T21:13:24.162328Z",
     "shell.execute_reply": "2024-01-26T21:13:24.161627Z",
     "shell.execute_reply.started": "2024-01-26T21:13:24.155347Z"
    },
    "tags": []
   },
   "source": [
    "## Emissions of CO2"
   ]
  },
  {
   "cell_type": "code",
   "execution_count": 198,
   "id": "7d10499d-9af7-4445-ac5e-efb5cbe57a00",
   "metadata": {
    "execution": {
     "iopub.execute_input": "2024-01-27T05:21:24.612627Z",
     "iopub.status.busy": "2024-01-27T05:21:24.611995Z",
     "iopub.status.idle": "2024-01-27T05:21:24.725342Z",
     "shell.execute_reply": "2024-01-27T05:21:24.724905Z",
     "shell.execute_reply.started": "2024-01-27T05:21:24.612585Z"
    },
    "tags": []
   },
   "outputs": [],
   "source": [
    "emissions = df_peef.groupby('valid_mode')['Emission_co2'].sum()\\\n",
    "+ df_aeef.groupby('valid_mode')['Emission_co2'].sum()\\\n",
    "+ df_boiler.groupby('valid_mode')['Emission_co2'].sum()\n",
    "emissions = emissions.reset_index()\n",
    "emissions['Emission_co2'] = emissions.Emission_co2/1e6#convert g to tonnes"
   ]
  },
  {
   "cell_type": "code",
   "execution_count": 199,
   "id": "0504fd09-11b9-4126-8f15-129ffb148f45",
   "metadata": {
    "execution": {
     "iopub.execute_input": "2024-01-27T05:21:25.811013Z",
     "iopub.status.busy": "2024-01-27T05:21:25.810190Z",
     "iopub.status.idle": "2024-01-27T05:21:25.832551Z",
     "shell.execute_reply": "2024-01-27T05:21:25.831790Z",
     "shell.execute_reply.started": "2024-01-27T05:21:25.810975Z"
    },
    "tags": []
   },
   "outputs": [
    {
     "data": {
      "text/html": [
       "<div>\n",
       "<style scoped>\n",
       "    .dataframe tbody tr th:only-of-type {\n",
       "        vertical-align: middle;\n",
       "    }\n",
       "\n",
       "    .dataframe tbody tr th {\n",
       "        vertical-align: top;\n",
       "    }\n",
       "\n",
       "    .dataframe thead th {\n",
       "        text-align: right;\n",
       "    }\n",
       "</style>\n",
       "<table border=\"1\" class=\"dataframe\">\n",
       "  <thead>\n",
       "    <tr style=\"text-align: right;\">\n",
       "      <th></th>\n",
       "      <th>valid_mode</th>\n",
       "      <th>Emission_co2</th>\n",
       "    </tr>\n",
       "  </thead>\n",
       "  <tbody>\n",
       "    <tr>\n",
       "      <th>0</th>\n",
       "      <td>0</td>\n",
       "      <td>852.701173</td>\n",
       "    </tr>\n",
       "    <tr>\n",
       "      <th>1</th>\n",
       "      <td>1</td>\n",
       "      <td>75545.943024</td>\n",
       "    </tr>\n",
       "    <tr>\n",
       "      <th>2</th>\n",
       "      <td>2</td>\n",
       "      <td>28039.095578</td>\n",
       "    </tr>\n",
       "    <tr>\n",
       "      <th>3</th>\n",
       "      <td>3</td>\n",
       "      <td>63973.021512</td>\n",
       "    </tr>\n",
       "    <tr>\n",
       "      <th>4</th>\n",
       "      <td>4</td>\n",
       "      <td>56004.583476</td>\n",
       "    </tr>\n",
       "  </tbody>\n",
       "</table>\n",
       "</div>"
      ],
      "text/plain": [
       "   valid_mode  Emission_co2\n",
       "0           0    852.701173\n",
       "1           1  75545.943024\n",
       "2           2  28039.095578\n",
       "3           3  63973.021512\n",
       "4           4  56004.583476"
      ]
     },
     "execution_count": 199,
     "metadata": {},
     "output_type": "execute_result"
    }
   ],
   "source": [
    "emissions"
   ]
  },
  {
   "cell_type": "markdown",
   "id": "a50e6525-c3c0-459b-9bb7-bb5d78ec07af",
   "metadata": {},
   "source": [
    "activity:\n",
    "        1: transition\n",
    "        2: anchorage\n",
    "        3: maneuvering\n",
    "        4: alomgside/hotel"
   ]
  },
  {
   "cell_type": "code",
   "execution_count": 201,
   "id": "fe94f420-7bf9-4b1c-8e31-facc74ff6fc1",
   "metadata": {
    "execution": {
     "iopub.execute_input": "2024-01-27T05:22:10.773950Z",
     "iopub.status.busy": "2024-01-27T05:22:10.773424Z",
     "iopub.status.idle": "2024-01-27T05:22:10.787002Z",
     "shell.execute_reply": "2024-01-27T05:22:10.785177Z",
     "shell.execute_reply.started": "2024-01-27T05:22:10.773917Z"
    },
    "tags": []
   },
   "outputs": [
    {
     "data": {
      "text/plain": [
       "223562.64359065192"
      ]
     },
     "execution_count": 201,
     "metadata": {},
     "output_type": "execute_result"
    }
   ],
   "source": [
    "Total_emission = emissions[emissions.valid_mode!=0].Emission_co2.sum()\n",
    "Total_emission"
   ]
  },
  {
   "cell_type": "markdown",
   "id": "299e788e-c938-4804-bbac-73c961c5115f",
   "metadata": {},
   "source": [
    "# effectiveness of electrification in reducing GHG emissions"
   ]
  },
  {
   "cell_type": "markdown",
   "id": "fb842d3f-b854-4f8e-8ab8-ee510780b798",
   "metadata": {},
   "source": [
    "Auxiliary engine emissions are calculated according to the general equation:\n",
    "\n",
    "\n",
    "E = LA X A x EF\n",
    "\n",
    "Where\n",
    "\n",
    "- E = Emissions (grams [g])\n",
    "-   = Auxiliary engine load (kW)\n",
    "- A = Activity (hours [h]) (hours/call)\n",
    "- EF = Emission Factor (grams per kilowatt-hour [g/kWh])"
   ]
  },
  {
   "cell_type": "markdown",
   "id": "08efe7c3-4b78-49a3-b809-803457820c9c",
   "metadata": {},
   "source": [
    "nox\tpm10\tpm2_5\tvoc\ts_ox\tn2_o\tch4\tbsfc\n",
    "哪些是温室气体\n",
    "\n",
    "ChatGPT\n",
    "在列举的化合物中，以下是温室气体：\n",
    "\n",
    "NOx (氮氧化物): NOx 包括一氧化氮（NO）和二氧化氮（NO2），它们虽然本身不是温室气体，但它们参与大气化学反应，间接影响温室气体的生成。\n",
    "\n",
    "VOC (挥发性有机化合物): VOC 可以包括多种有机化合物，其中一些是温室气体。例如，甲烷（CH4）是一种常见的挥发性有机化合物，也是强大的温室气体。\n",
    "\n",
    "N2O (一氧化二氮): 一氧化二氮是一种温室气体，主要来源包括化肥使用和其他人为活动。\n",
    "\n",
    "CH4 (甲烷): 甲烷是一种强大的温室气体，主要来源包括天然气开采、畜牧业和生物质分解。\n",
    "\n",
    "因此，在你列举的化合物中，NOx、VOC、N2O和CH4都是温室气体。其他的如 PM10、PM2.5、S_ox（硫氧化物）、BSFC（燃料效率）等不是温室气体"
   ]
  },
  {
   "cell_type": "code",
   "execution_count": 88,
   "id": "8c8774ab-5aba-4857-8d0b-eef2f603224a",
   "metadata": {
    "execution": {
     "iopub.execute_input": "2024-01-27T03:02:36.176635Z",
     "iopub.status.busy": "2024-01-27T03:02:36.176202Z",
     "iopub.status.idle": "2024-01-27T03:02:36.188924Z",
     "shell.execute_reply": "2024-01-27T03:02:36.188333Z",
     "shell.execute_reply.started": "2024-01-27T03:02:36.176611Z"
    },
    "scrolled": true,
    "tags": []
   },
   "outputs": [
    {
     "name": "stdout",
     "output_type": "stream",
     "text": [
      "<class 'pandas.core.frame.DataFrame'>\n",
      "Int64Index: 2033372 entries, 0 to 2033371\n",
      "Data columns (total 28 columns):\n",
      " #   Column          Dtype  \n",
      "---  ------          -----  \n",
      " 0   imo             int64  \n",
      " 1   timestamp       object \n",
      " 2   time_diff       float64\n",
      " 3   valid_duration  float64\n",
      " 4   p               float64\n",
      " 5   vref            float64\n",
      " 6   sfc_ae          float64\n",
      " 7   ael             float64\n",
      " 8   MS              float64\n",
      " 9   LF              float64\n",
      " 10  Tier            float64\n",
      " 11  valid_mode      int64  \n",
      " 12  ael_bin         object \n",
      " 13  engine_size     object \n",
      " 14  emission_tier   float64\n",
      " 15  model_years     object \n",
      " 16  nox             float64\n",
      " 17  pm10            float64\n",
      " 18  pm2_5           float64\n",
      " 19  voc             float64\n",
      " 20  s_ox            float64\n",
      " 21  n2_o            float64\n",
      " 22  ch4             float64\n",
      " 23  bsfc            float64\n",
      " 24  pm2.5           float64\n",
      " 25  sox             float64\n",
      " 26  co2             float64\n",
      " 27  Emission_co2    float64\n",
      "dtypes: float64(22), int64(2), object(4)\n",
      "memory usage: 449.9+ MB\n"
     ]
    }
   ],
   "source": [
    "df_aeef.info()"
   ]
  },
  {
   "cell_type": "code",
   "execution_count": 202,
   "id": "50afcbbb-2392-4eaa-a397-b2ced822d9c3",
   "metadata": {
    "execution": {
     "iopub.execute_input": "2024-01-27T05:22:41.561686Z",
     "iopub.status.busy": "2024-01-27T05:22:41.560015Z",
     "iopub.status.idle": "2024-01-27T05:22:41.625091Z",
     "shell.execute_reply": "2024-01-27T05:22:41.624510Z",
     "shell.execute_reply.started": "2024-01-27T05:22:41.561595Z"
    },
    "tags": []
   },
   "outputs": [],
   "source": [
    "GHGs = ['nox', 'voc', 'n2_o', 'ch4','co2']\n",
    "\n",
    "for GHG in GHGs:\n",
    "    df_aeef['Emission_'+GHG] = df_aeef.ael* df_aeef.valid_duration * df_aeef[GHG]"
   ]
  },
  {
   "cell_type": "code",
   "execution_count": 203,
   "id": "b527ffe7-9bba-4403-927c-3d42a8791328",
   "metadata": {
    "execution": {
     "iopub.execute_input": "2024-01-27T05:22:58.083537Z",
     "iopub.status.busy": "2024-01-27T05:22:58.081995Z",
     "iopub.status.idle": "2024-01-27T05:22:58.785059Z",
     "shell.execute_reply": "2024-01-27T05:22:58.784701Z",
     "shell.execute_reply.started": "2024-01-27T05:22:58.083470Z"
    },
    "tags": []
   },
   "outputs": [
    {
     "data": {
      "text/plain": [
       "Index(['Emission_nox', 'Emission_voc', 'Emission_n2_o', 'Emission_ch4',\n",
       "       'Emission_co2'],\n",
       "      dtype='object')"
      ]
     },
     "execution_count": 203,
     "metadata": {},
     "output_type": "execute_result"
    }
   ],
   "source": [
    "# 获取列名以 \"Em\" 开头的列\n",
    "Emission_cols = df_aeef.filter(regex='^Em', axis=1).columns\n",
    "Emission_cols"
   ]
  },
  {
   "cell_type": "code",
   "execution_count": 204,
   "id": "1a2d724d-011a-4817-a313-6f39acd9499e",
   "metadata": {
    "execution": {
     "iopub.execute_input": "2024-01-27T05:22:59.302269Z",
     "iopub.status.busy": "2024-01-27T05:22:59.301318Z",
     "iopub.status.idle": "2024-01-27T05:23:00.411872Z",
     "shell.execute_reply": "2024-01-27T05:23:00.411218Z",
     "shell.execute_reply.started": "2024-01-27T05:22:59.302225Z"
    },
    "tags": []
   },
   "outputs": [],
   "source": [
    "def gen_mon_date(df):\n",
    "    df['timestamp'] = pd.to_datetime(df['timestamp'])\n",
    "    df['date'] = df['timestamp'].apply(lambda x: x.date)\n",
    "    df['month'] = df['timestamp'].apply(lambda x: x.month)\n",
    "    return df\n",
    "df_aeef = gen_mon_date(df_aeef)"
   ]
  },
  {
   "cell_type": "markdown",
   "id": "4eb3a77e-cca2-4e5b-b616-7bdff2e98eb0",
   "metadata": {},
   "source": [
    "activity:\n",
    "        1: transition\n",
    "        2: anchorage\n",
    "        3: maneuvering\n",
    "        4: alomgside/hotel"
   ]
  },
  {
   "cell_type": "code",
   "execution_count": 205,
   "id": "44295289-8b1e-4cf3-92db-12c6ede9b4dd",
   "metadata": {
    "execution": {
     "iopub.execute_input": "2024-01-27T05:23:12.552454Z",
     "iopub.status.busy": "2024-01-27T05:23:12.551917Z",
     "iopub.status.idle": "2024-01-27T05:23:13.011106Z",
     "shell.execute_reply": "2024-01-27T05:23:13.010303Z",
     "shell.execute_reply.started": "2024-01-27T05:23:12.552419Z"
    },
    "tags": []
   },
   "outputs": [],
   "source": [
    "# filter activity which is alongside\n",
    "result = df_aeef[df_aeef.valid_mode == 4].groupby(['month','date'])[Emission_cols].sum()\n",
    "result = result.reset_index()\n",
    "result[Emission_cols] = result[Emission_cols]/1e6 # convert from g to tonnes"
   ]
  },
  {
   "cell_type": "code",
   "execution_count": 206,
   "id": "ec0ac30d-6760-45d6-a0cd-582999c92447",
   "metadata": {
    "execution": {
     "iopub.execute_input": "2024-01-27T05:23:15.861157Z",
     "iopub.status.busy": "2024-01-27T05:23:15.860232Z",
     "iopub.status.idle": "2024-01-27T05:23:15.876091Z",
     "shell.execute_reply": "2024-01-27T05:23:15.875136Z",
     "shell.execute_reply.started": "2024-01-27T05:23:15.861102Z"
    },
    "tags": []
   },
   "outputs": [
    {
     "data": {
      "text/plain": [
       "Emission_nox       520.618715\n",
       "Emission_voc        19.234743\n",
       "Emission_n2_o        1.644776\n",
       "Emission_ch4         0.456882\n",
       "Emission_co2     31967.978530\n",
       "dtype: float64"
      ]
     },
     "execution_count": 206,
     "metadata": {},
     "output_type": "execute_result"
    }
   ],
   "source": [
    "result[Emission_cols].sum()"
   ]
  },
  {
   "cell_type": "code",
   "execution_count": 207,
   "id": "8d32c8a0-029b-4681-8118-a0b483736e59",
   "metadata": {
    "execution": {
     "iopub.execute_input": "2024-01-27T05:23:22.915877Z",
     "iopub.status.busy": "2024-01-27T05:23:22.914376Z",
     "iopub.status.idle": "2024-01-27T05:23:22.935300Z",
     "shell.execute_reply": "2024-01-27T05:23:22.934485Z",
     "shell.execute_reply.started": "2024-01-27T05:23:22.915803Z"
    },
    "tags": []
   },
   "outputs": [
    {
     "data": {
      "text/plain": [
       "Emission_nox       8.534733\n",
       "Emission_voc       0.315324\n",
       "Emission_n2_o      0.026964\n",
       "Emission_ch4       0.007490\n",
       "Emission_co2     524.065222\n",
       "dtype: float64"
      ]
     },
     "execution_count": 207,
     "metadata": {},
     "output_type": "execute_result"
    }
   ],
   "source": [
    "# daily GHG emission\n",
    "result[Emission_cols].sum()/61"
   ]
  },
  {
   "cell_type": "code",
   "execution_count": null,
   "id": "7b9dc9d5-3c9a-4a7c-8995-d078a726d08f",
   "metadata": {},
   "outputs": [],
   "source": [
    "Emission_nox       520.618715\n",
    "Emission_voc        19.234743\n",
    "Emission_n2_o        1.644776\n",
    "Emission_ch4         0.456882\n",
    "Emission_co2     31967.978530"
   ]
  },
  {
   "cell_type": "markdown",
   "id": "90044688-d4b3-4b32-84b7-257581a5ce68",
   "metadata": {},
   "source": [
    "# baseline assessment of GHG emissions"
   ]
  },
  {
   "cell_type": "code",
   "execution_count": 209,
   "id": "3b1a96b5-1b77-427c-a573-3237b247a744",
   "metadata": {
    "execution": {
     "iopub.execute_input": "2024-01-27T05:25:10.915714Z",
     "iopub.status.busy": "2024-01-27T05:25:10.915551Z",
     "iopub.status.idle": "2024-01-27T05:25:11.288380Z",
     "shell.execute_reply": "2024-01-27T05:25:11.287924Z",
     "shell.execute_reply.started": "2024-01-27T05:25:10.915697Z"
    },
    "tags": []
   },
   "outputs": [
    {
     "name": "stdout",
     "output_type": "stream",
     "text": [
      "Emission_nox       3127.951244\n",
      "Emission_co2     128863.531503\n",
      "Emission_n2_O         6.940398\n",
      "Emission_ch4          2.113092\n",
      "dtype: float64\n"
     ]
    },
    {
     "data": {
      "text/html": [
       "<div>\n",
       "<style scoped>\n",
       "    .dataframe tbody tr th:only-of-type {\n",
       "        vertical-align: middle;\n",
       "    }\n",
       "\n",
       "    .dataframe tbody tr th {\n",
       "        vertical-align: top;\n",
       "    }\n",
       "\n",
       "    .dataframe thead th {\n",
       "        text-align: right;\n",
       "    }\n",
       "</style>\n",
       "<table border=\"1\" class=\"dataframe\">\n",
       "  <thead>\n",
       "    <tr style=\"text-align: right;\">\n",
       "      <th></th>\n",
       "      <th>Emission_nox</th>\n",
       "      <th>Emission_co2</th>\n",
       "      <th>Emission_n2_O</th>\n",
       "      <th>Emission_ch4</th>\n",
       "    </tr>\n",
       "    <tr>\n",
       "      <th>valid_mode</th>\n",
       "      <th></th>\n",
       "      <th></th>\n",
       "      <th></th>\n",
       "      <th></th>\n",
       "    </tr>\n",
       "  </thead>\n",
       "  <tbody>\n",
       "    <tr>\n",
       "      <th>0</th>\n",
       "      <td>0.030478</td>\n",
       "      <td>0.849315</td>\n",
       "      <td>0.000071</td>\n",
       "      <td>0.000109</td>\n",
       "    </tr>\n",
       "    <tr>\n",
       "      <th>1</th>\n",
       "      <td>1566.393775</td>\n",
       "      <td>71003.611173</td>\n",
       "      <td>3.579937</td>\n",
       "      <td>1.120480</td>\n",
       "    </tr>\n",
       "    <tr>\n",
       "      <th>2</th>\n",
       "      <td>0.000000</td>\n",
       "      <td>0.000000</td>\n",
       "      <td>0.000000</td>\n",
       "      <td>0.000000</td>\n",
       "    </tr>\n",
       "    <tr>\n",
       "      <th>3</th>\n",
       "      <td>1561.557469</td>\n",
       "      <td>57859.920330</td>\n",
       "      <td>3.360461</td>\n",
       "      <td>0.992612</td>\n",
       "    </tr>\n",
       "    <tr>\n",
       "      <th>4</th>\n",
       "      <td>0.000000</td>\n",
       "      <td>0.000000</td>\n",
       "      <td>0.000000</td>\n",
       "      <td>0.000000</td>\n",
       "    </tr>\n",
       "  </tbody>\n",
       "</table>\n",
       "</div>"
      ],
      "text/plain": [
       "            Emission_nox  Emission_co2  Emission_n2_O  Emission_ch4\n",
       "valid_mode                                                         \n",
       "0               0.030478      0.849315       0.000071      0.000109\n",
       "1            1566.393775  71003.611173       3.579937      1.120480\n",
       "2               0.000000      0.000000       0.000000      0.000000\n",
       "3            1561.557469  57859.920330       3.360461      0.992612\n",
       "4               0.000000      0.000000       0.000000      0.000000"
      ]
     },
     "execution_count": 209,
     "metadata": {},
     "output_type": "execute_result"
    }
   ],
   "source": [
    "cols = df_peef.filter(regex='^Em',axis=1).columns\n",
    "print(df_peef[df_peef.valid_mode!=0].groupby(['valid_mode'])[cols].sum().sum()/1e6)\n",
    "df_peef.groupby(['valid_mode'])[cols].sum()/1e6"
   ]
  },
  {
   "cell_type": "code",
   "execution_count": 216,
   "id": "a257e918-ddab-4b32-8ac8-12a33e05746d",
   "metadata": {
    "execution": {
     "iopub.execute_input": "2024-01-27T06:02:54.132879Z",
     "iopub.status.busy": "2024-01-27T06:02:54.130963Z",
     "iopub.status.idle": "2024-01-27T06:02:54.335217Z",
     "shell.execute_reply": "2024-01-27T06:02:54.334246Z",
     "shell.execute_reply.started": "2024-01-27T06:02:54.132754Z"
    },
    "tags": []
   },
   "outputs": [
    {
     "data": {
      "text/html": [
       "<div>\n",
       "<style scoped>\n",
       "    .dataframe tbody tr th:only-of-type {\n",
       "        vertical-align: middle;\n",
       "    }\n",
       "\n",
       "    .dataframe tbody tr th {\n",
       "        vertical-align: top;\n",
       "    }\n",
       "\n",
       "    .dataframe thead th {\n",
       "        text-align: right;\n",
       "    }\n",
       "</style>\n",
       "<table border=\"1\" class=\"dataframe\">\n",
       "  <thead>\n",
       "    <tr style=\"text-align: right;\">\n",
       "      <th></th>\n",
       "      <th>Emission_nox</th>\n",
       "      <th>Emission_voc</th>\n",
       "      <th>Emission_n2_o</th>\n",
       "      <th>Emission_ch4</th>\n",
       "      <th>Emission_co2</th>\n",
       "    </tr>\n",
       "    <tr>\n",
       "      <th>valid_mode</th>\n",
       "      <th></th>\n",
       "      <th></th>\n",
       "      <th></th>\n",
       "      <th></th>\n",
       "      <th></th>\n",
       "    </tr>\n",
       "  </thead>\n",
       "  <tbody>\n",
       "    <tr>\n",
       "      <th>0</th>\n",
       "      <td>9.502162</td>\n",
       "      <td>0.343326</td>\n",
       "      <td>0.029358</td>\n",
       "      <td>0.008155</td>\n",
       "      <td>568.425317</td>\n",
       "    </tr>\n",
       "    <tr>\n",
       "      <th>1</th>\n",
       "      <td>46.729895</td>\n",
       "      <td>1.699822</td>\n",
       "      <td>0.145353</td>\n",
       "      <td>0.040376</td>\n",
       "      <td>2868.105737</td>\n",
       "    </tr>\n",
       "    <tr>\n",
       "      <th>2</th>\n",
       "      <td>230.832084</td>\n",
       "      <td>8.508636</td>\n",
       "      <td>0.727579</td>\n",
       "      <td>0.202105</td>\n",
       "      <td>14335.807158</td>\n",
       "    </tr>\n",
       "    <tr>\n",
       "      <th>3</th>\n",
       "      <td>76.254617</td>\n",
       "      <td>2.789203</td>\n",
       "      <td>0.238507</td>\n",
       "      <td>0.066252</td>\n",
       "      <td>4591.328871</td>\n",
       "    </tr>\n",
       "    <tr>\n",
       "      <th>4</th>\n",
       "      <td>520.618715</td>\n",
       "      <td>19.234743</td>\n",
       "      <td>1.644776</td>\n",
       "      <td>0.456882</td>\n",
       "      <td>31967.978530</td>\n",
       "    </tr>\n",
       "  </tbody>\n",
       "</table>\n",
       "</div>"
      ],
      "text/plain": [
       "            Emission_nox  Emission_voc  Emission_n2_o  Emission_ch4  \\\n",
       "valid_mode                                                            \n",
       "0               9.502162      0.343326       0.029358      0.008155   \n",
       "1              46.729895      1.699822       0.145353      0.040376   \n",
       "2             230.832084      8.508636       0.727579      0.202105   \n",
       "3              76.254617      2.789203       0.238507      0.066252   \n",
       "4             520.618715     19.234743       1.644776      0.456882   \n",
       "\n",
       "            Emission_co2  \n",
       "valid_mode                \n",
       "0             568.425317  \n",
       "1            2868.105737  \n",
       "2           14335.807158  \n",
       "3            4591.328871  \n",
       "4           31967.978530  "
      ]
     },
     "execution_count": 216,
     "metadata": {},
     "output_type": "execute_result"
    }
   ],
   "source": [
    "cols = df_aeef.filter(regex='^Em',axis=1).columns\n",
    "\n",
    "df_aeef.groupby(['valid_mode'])[cols].sum()/1e6"
   ]
  },
  {
   "cell_type": "code",
   "execution_count": 212,
   "id": "954ccd1c-fc5c-494b-aa2a-e69ddfc28fec",
   "metadata": {
    "execution": {
     "iopub.execute_input": "2024-01-27T05:26:24.144156Z",
     "iopub.status.busy": "2024-01-27T05:26:24.143049Z",
     "iopub.status.idle": "2024-01-27T05:26:24.249025Z",
     "shell.execute_reply": "2024-01-27T05:26:24.248534Z",
     "shell.execute_reply.started": "2024-01-27T05:26:24.144111Z"
    },
    "tags": []
   },
   "outputs": [
    {
     "name": "stdout",
     "output_type": "stream",
     "text": [
      "Emission_nox       874.435312\n",
      "Emission_voc        32.232405\n",
      "Emission_n2_o        2.756215\n",
      "Emission_ch4         0.765615\n",
      "Emission_co2     53763.220296\n",
      "dtype: float64\n"
     ]
    }
   ],
   "source": [
    "print(df_aeef[cols][df_aeef.valid_mode!=0].sum()/1e6)"
   ]
  },
  {
   "cell_type": "code",
   "execution_count": 217,
   "id": "2888746c-43ad-4ba1-a25e-9c2b84fce929",
   "metadata": {
    "execution": {
     "iopub.execute_input": "2024-01-27T06:02:58.165699Z",
     "iopub.status.busy": "2024-01-27T06:02:58.164043Z",
     "iopub.status.idle": "2024-01-27T06:02:58.278246Z",
     "shell.execute_reply": "2024-01-27T06:02:58.277616Z",
     "shell.execute_reply.started": "2024-01-27T06:02:58.165631Z"
    },
    "tags": []
   },
   "outputs": [
    {
     "data": {
      "text/html": [
       "<div>\n",
       "<style scoped>\n",
       "    .dataframe tbody tr th:only-of-type {\n",
       "        vertical-align: middle;\n",
       "    }\n",
       "\n",
       "    .dataframe tbody tr th {\n",
       "        vertical-align: top;\n",
       "    }\n",
       "\n",
       "    .dataframe thead th {\n",
       "        text-align: right;\n",
       "    }\n",
       "</style>\n",
       "<table border=\"1\" class=\"dataframe\">\n",
       "  <thead>\n",
       "    <tr style=\"text-align: right;\">\n",
       "      <th></th>\n",
       "      <th>Emission_n_ox</th>\n",
       "      <th>Emission_voc</th>\n",
       "      <th>Emission_n2_O</th>\n",
       "      <th>Emission_ch4</th>\n",
       "      <th>Emission_co2</th>\n",
       "    </tr>\n",
       "    <tr>\n",
       "      <th>valid_mode</th>\n",
       "      <th></th>\n",
       "      <th></th>\n",
       "      <th></th>\n",
       "      <th></th>\n",
       "      <th></th>\n",
       "    </tr>\n",
       "  </thead>\n",
       "  <tbody>\n",
       "    <tr>\n",
       "      <th>0</th>\n",
       "      <td>0.594318</td>\n",
       "      <td>0.031291</td>\n",
       "      <td>0.014561</td>\n",
       "      <td>0.000594</td>\n",
       "      <td>283.426540</td>\n",
       "    </tr>\n",
       "    <tr>\n",
       "      <th>1</th>\n",
       "      <td>3.510693</td>\n",
       "      <td>0.184838</td>\n",
       "      <td>0.086012</td>\n",
       "      <td>0.003511</td>\n",
       "      <td>1674.226114</td>\n",
       "    </tr>\n",
       "    <tr>\n",
       "      <th>2</th>\n",
       "      <td>28.734493</td>\n",
       "      <td>1.512871</td>\n",
       "      <td>0.703995</td>\n",
       "      <td>0.028734</td>\n",
       "      <td>13703.288420</td>\n",
       "    </tr>\n",
       "    <tr>\n",
       "      <th>3</th>\n",
       "      <td>3.191012</td>\n",
       "      <td>0.168007</td>\n",
       "      <td>0.078180</td>\n",
       "      <td>0.003191</td>\n",
       "      <td>1521.772311</td>\n",
       "    </tr>\n",
       "    <tr>\n",
       "      <th>4</th>\n",
       "      <td>50.402475</td>\n",
       "      <td>2.653690</td>\n",
       "      <td>1.234861</td>\n",
       "      <td>0.050402</td>\n",
       "      <td>24036.604947</td>\n",
       "    </tr>\n",
       "  </tbody>\n",
       "</table>\n",
       "</div>"
      ],
      "text/plain": [
       "            Emission_n_ox  Emission_voc  Emission_n2_O  Emission_ch4  \\\n",
       "valid_mode                                                             \n",
       "0                0.594318      0.031291       0.014561      0.000594   \n",
       "1                3.510693      0.184838       0.086012      0.003511   \n",
       "2               28.734493      1.512871       0.703995      0.028734   \n",
       "3                3.191012      0.168007       0.078180      0.003191   \n",
       "4               50.402475      2.653690       1.234861      0.050402   \n",
       "\n",
       "            Emission_co2  \n",
       "valid_mode                \n",
       "0             283.426540  \n",
       "1            1674.226114  \n",
       "2           13703.288420  \n",
       "3            1521.772311  \n",
       "4           24036.604947  "
      ]
     },
     "execution_count": 217,
     "metadata": {},
     "output_type": "execute_result"
    }
   ],
   "source": [
    "cols = df_boiler.filter(regex='^Em',axis=1).columns\n",
    "\n",
    "df_boiler.groupby(['valid_mode'])[cols].sum()/1e6"
   ]
  },
  {
   "cell_type": "code",
   "execution_count": 215,
   "id": "64eb45d2-a3db-406b-be46-07b7ddcd3e33",
   "metadata": {
    "execution": {
     "iopub.execute_input": "2024-01-27T05:26:46.062253Z",
     "iopub.status.busy": "2024-01-27T05:26:46.062119Z",
     "iopub.status.idle": "2024-01-27T05:26:46.117175Z",
     "shell.execute_reply": "2024-01-27T05:26:46.116746Z",
     "shell.execute_reply.started": "2024-01-27T05:26:46.062242Z"
    },
    "tags": []
   },
   "outputs": [
    {
     "name": "stdout",
     "output_type": "stream",
     "text": [
      "Emission_n_ox       85.838672\n",
      "Emission_voc         4.519406\n",
      "Emission_n2_O        2.103047\n",
      "Emission_ch4         0.085839\n",
      "Emission_co2     40935.891792\n",
      "dtype: float64\n"
     ]
    }
   ],
   "source": [
    "print(df_boiler[cols][df_boiler.valid_mode!=0].sum()/1e6)"
   ]
  }
 ],
 "metadata": {
  "kernelspec": {
   "display_name": "Python 3 (ipykernel)",
   "language": "python",
   "name": "python3"
  },
  "language_info": {
   "codemirror_mode": {
    "name": "ipython",
    "version": 3
   },
   "file_extension": ".py",
   "mimetype": "text/x-python",
   "name": "python",
   "nbconvert_exporter": "python",
   "pygments_lexer": "ipython3",
   "version": "3.9.7"
  }
 },
 "nbformat": 4,
 "nbformat_minor": 5
}
